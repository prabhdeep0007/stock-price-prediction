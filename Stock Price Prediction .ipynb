{
 "cells": [
  {
   "cell_type": "code",
   "execution_count": 1,
   "id": "10836888",
   "metadata": {},
   "outputs": [],
   "source": [
    "import pandas_datareader as pdr"
   ]
  },
  {
   "cell_type": "code",
   "execution_count": 2,
   "id": "dc23c6bc",
   "metadata": {},
   "outputs": [],
   "source": [
    "import pandas as pd"
   ]
  },
  {
   "cell_type": "code",
   "execution_count": 3,
   "id": "1f004f20",
   "metadata": {},
   "outputs": [
    {
     "name": "stderr",
     "output_type": "stream",
     "text": [
      "/Users/prabhdeepsingh/miniforge3/envs/env_tensorflow/lib/python3.9/site-packages/pandas_datareader/tiingo.py:234: FutureWarning: In a future version of pandas all arguments of concat except for the argument 'objs' will be keyword-only.\n",
      "  return pd.concat(dfs, self._concat_axis)\n"
     ]
    }
   ],
   "source": [
    "dataframe=pdr.get_data_tiingo('AAPL',api_key='ccfaacf44804ba689b5d2788efc212cb200b8066')"
   ]
  },
  {
   "cell_type": "code",
   "execution_count": 4,
   "id": "4afa3dc8",
   "metadata": {},
   "outputs": [],
   "source": [
    "dataframe.to_csv('apple.csv')"
   ]
  },
  {
   "cell_type": "code",
   "execution_count": 5,
   "id": "56187fcd",
   "metadata": {},
   "outputs": [],
   "source": [
    "dataframe=pd.read_csv('apple.csv')"
   ]
  },
  {
   "cell_type": "code",
   "execution_count": 6,
   "id": "dd98f599",
   "metadata": {},
   "outputs": [
    {
     "data": {
      "text/html": [
       "<div>\n",
       "<style scoped>\n",
       "    .dataframe tbody tr th:only-of-type {\n",
       "        vertical-align: middle;\n",
       "    }\n",
       "\n",
       "    .dataframe tbody tr th {\n",
       "        vertical-align: top;\n",
       "    }\n",
       "\n",
       "    .dataframe thead th {\n",
       "        text-align: right;\n",
       "    }\n",
       "</style>\n",
       "<table border=\"1\" class=\"dataframe\">\n",
       "  <thead>\n",
       "    <tr style=\"text-align: right;\">\n",
       "      <th></th>\n",
       "      <th>symbol</th>\n",
       "      <th>date</th>\n",
       "      <th>close</th>\n",
       "      <th>high</th>\n",
       "      <th>low</th>\n",
       "      <th>open</th>\n",
       "      <th>volume</th>\n",
       "      <th>adjClose</th>\n",
       "      <th>adjHigh</th>\n",
       "      <th>adjLow</th>\n",
       "      <th>adjOpen</th>\n",
       "      <th>adjVolume</th>\n",
       "      <th>divCash</th>\n",
       "      <th>splitFactor</th>\n",
       "    </tr>\n",
       "  </thead>\n",
       "  <tbody>\n",
       "    <tr>\n",
       "      <th>0</th>\n",
       "      <td>AAPL</td>\n",
       "      <td>2017-07-17 00:00:00+00:00</td>\n",
       "      <td>149.56</td>\n",
       "      <td>150.90</td>\n",
       "      <td>148.5700</td>\n",
       "      <td>148.82</td>\n",
       "      <td>23243713</td>\n",
       "      <td>35.389423</td>\n",
       "      <td>35.706498</td>\n",
       "      <td>35.155165</td>\n",
       "      <td>35.214321</td>\n",
       "      <td>92974852</td>\n",
       "      <td>0.0</td>\n",
       "      <td>1.0</td>\n",
       "    </tr>\n",
       "    <tr>\n",
       "      <th>1</th>\n",
       "      <td>AAPL</td>\n",
       "      <td>2017-07-18 00:00:00+00:00</td>\n",
       "      <td>150.08</td>\n",
       "      <td>150.13</td>\n",
       "      <td>148.6700</td>\n",
       "      <td>149.20</td>\n",
       "      <td>17713795</td>\n",
       "      <td>35.512467</td>\n",
       "      <td>35.524298</td>\n",
       "      <td>35.178828</td>\n",
       "      <td>35.304238</td>\n",
       "      <td>70855180</td>\n",
       "      <td>0.0</td>\n",
       "      <td>1.0</td>\n",
       "    </tr>\n",
       "    <tr>\n",
       "      <th>2</th>\n",
       "      <td>AAPL</td>\n",
       "      <td>2017-07-19 00:00:00+00:00</td>\n",
       "      <td>151.02</td>\n",
       "      <td>151.42</td>\n",
       "      <td>149.9500</td>\n",
       "      <td>150.48</td>\n",
       "      <td>20615419</td>\n",
       "      <td>35.734893</td>\n",
       "      <td>35.829543</td>\n",
       "      <td>35.481706</td>\n",
       "      <td>35.607116</td>\n",
       "      <td>82461676</td>\n",
       "      <td>0.0</td>\n",
       "      <td>1.0</td>\n",
       "    </tr>\n",
       "    <tr>\n",
       "      <th>3</th>\n",
       "      <td>AAPL</td>\n",
       "      <td>2017-07-20 00:00:00+00:00</td>\n",
       "      <td>150.34</td>\n",
       "      <td>151.74</td>\n",
       "      <td>150.1900</td>\n",
       "      <td>151.50</td>\n",
       "      <td>17053326</td>\n",
       "      <td>35.573989</td>\n",
       "      <td>35.905262</td>\n",
       "      <td>35.538496</td>\n",
       "      <td>35.848473</td>\n",
       "      <td>68213304</td>\n",
       "      <td>0.0</td>\n",
       "      <td>1.0</td>\n",
       "    </tr>\n",
       "    <tr>\n",
       "      <th>4</th>\n",
       "      <td>AAPL</td>\n",
       "      <td>2017-07-21 00:00:00+00:00</td>\n",
       "      <td>150.27</td>\n",
       "      <td>150.44</td>\n",
       "      <td>148.8800</td>\n",
       "      <td>149.99</td>\n",
       "      <td>24671002</td>\n",
       "      <td>35.557426</td>\n",
       "      <td>35.597652</td>\n",
       "      <td>35.228519</td>\n",
       "      <td>35.491171</td>\n",
       "      <td>98684008</td>\n",
       "      <td>0.0</td>\n",
       "      <td>1.0</td>\n",
       "    </tr>\n",
       "    <tr>\n",
       "      <th>...</th>\n",
       "      <td>...</td>\n",
       "      <td>...</td>\n",
       "      <td>...</td>\n",
       "      <td>...</td>\n",
       "      <td>...</td>\n",
       "      <td>...</td>\n",
       "      <td>...</td>\n",
       "      <td>...</td>\n",
       "      <td>...</td>\n",
       "      <td>...</td>\n",
       "      <td>...</td>\n",
       "      <td>...</td>\n",
       "      <td>...</td>\n",
       "      <td>...</td>\n",
       "    </tr>\n",
       "    <tr>\n",
       "      <th>1254</th>\n",
       "      <td>AAPL</td>\n",
       "      <td>2022-07-11 00:00:00+00:00</td>\n",
       "      <td>144.87</td>\n",
       "      <td>146.64</td>\n",
       "      <td>143.7800</td>\n",
       "      <td>145.67</td>\n",
       "      <td>63305113</td>\n",
       "      <td>144.870000</td>\n",
       "      <td>146.640000</td>\n",
       "      <td>143.780000</td>\n",
       "      <td>145.670000</td>\n",
       "      <td>63305113</td>\n",
       "      <td>0.0</td>\n",
       "      <td>1.0</td>\n",
       "    </tr>\n",
       "    <tr>\n",
       "      <th>1255</th>\n",
       "      <td>AAPL</td>\n",
       "      <td>2022-07-12 00:00:00+00:00</td>\n",
       "      <td>145.86</td>\n",
       "      <td>148.45</td>\n",
       "      <td>145.0500</td>\n",
       "      <td>145.76</td>\n",
       "      <td>77588759</td>\n",
       "      <td>145.860000</td>\n",
       "      <td>148.450000</td>\n",
       "      <td>145.050000</td>\n",
       "      <td>145.760000</td>\n",
       "      <td>77588759</td>\n",
       "      <td>0.0</td>\n",
       "      <td>1.0</td>\n",
       "    </tr>\n",
       "    <tr>\n",
       "      <th>1256</th>\n",
       "      <td>AAPL</td>\n",
       "      <td>2022-07-13 00:00:00+00:00</td>\n",
       "      <td>145.49</td>\n",
       "      <td>146.45</td>\n",
       "      <td>142.1201</td>\n",
       "      <td>142.99</td>\n",
       "      <td>71185560</td>\n",
       "      <td>145.490000</td>\n",
       "      <td>146.450000</td>\n",
       "      <td>142.120100</td>\n",
       "      <td>142.990000</td>\n",
       "      <td>71185560</td>\n",
       "      <td>0.0</td>\n",
       "      <td>1.0</td>\n",
       "    </tr>\n",
       "    <tr>\n",
       "      <th>1257</th>\n",
       "      <td>AAPL</td>\n",
       "      <td>2022-07-14 00:00:00+00:00</td>\n",
       "      <td>148.47</td>\n",
       "      <td>148.95</td>\n",
       "      <td>143.2500</td>\n",
       "      <td>144.08</td>\n",
       "      <td>78140744</td>\n",
       "      <td>148.470000</td>\n",
       "      <td>148.950000</td>\n",
       "      <td>143.250000</td>\n",
       "      <td>144.080000</td>\n",
       "      <td>78140744</td>\n",
       "      <td>0.0</td>\n",
       "      <td>1.0</td>\n",
       "    </tr>\n",
       "    <tr>\n",
       "      <th>1258</th>\n",
       "      <td>AAPL</td>\n",
       "      <td>2022-07-15 00:00:00+00:00</td>\n",
       "      <td>150.17</td>\n",
       "      <td>150.86</td>\n",
       "      <td>148.2000</td>\n",
       "      <td>149.78</td>\n",
       "      <td>76259931</td>\n",
       "      <td>150.170000</td>\n",
       "      <td>150.860000</td>\n",
       "      <td>148.200000</td>\n",
       "      <td>149.780000</td>\n",
       "      <td>76259931</td>\n",
       "      <td>0.0</td>\n",
       "      <td>1.0</td>\n",
       "    </tr>\n",
       "  </tbody>\n",
       "</table>\n",
       "<p>1259 rows × 14 columns</p>\n",
       "</div>"
      ],
      "text/plain": [
       "     symbol                       date   close    high       low    open  \\\n",
       "0      AAPL  2017-07-17 00:00:00+00:00  149.56  150.90  148.5700  148.82   \n",
       "1      AAPL  2017-07-18 00:00:00+00:00  150.08  150.13  148.6700  149.20   \n",
       "2      AAPL  2017-07-19 00:00:00+00:00  151.02  151.42  149.9500  150.48   \n",
       "3      AAPL  2017-07-20 00:00:00+00:00  150.34  151.74  150.1900  151.50   \n",
       "4      AAPL  2017-07-21 00:00:00+00:00  150.27  150.44  148.8800  149.99   \n",
       "...     ...                        ...     ...     ...       ...     ...   \n",
       "1254   AAPL  2022-07-11 00:00:00+00:00  144.87  146.64  143.7800  145.67   \n",
       "1255   AAPL  2022-07-12 00:00:00+00:00  145.86  148.45  145.0500  145.76   \n",
       "1256   AAPL  2022-07-13 00:00:00+00:00  145.49  146.45  142.1201  142.99   \n",
       "1257   AAPL  2022-07-14 00:00:00+00:00  148.47  148.95  143.2500  144.08   \n",
       "1258   AAPL  2022-07-15 00:00:00+00:00  150.17  150.86  148.2000  149.78   \n",
       "\n",
       "        volume    adjClose     adjHigh      adjLow     adjOpen  adjVolume  \\\n",
       "0     23243713   35.389423   35.706498   35.155165   35.214321   92974852   \n",
       "1     17713795   35.512467   35.524298   35.178828   35.304238   70855180   \n",
       "2     20615419   35.734893   35.829543   35.481706   35.607116   82461676   \n",
       "3     17053326   35.573989   35.905262   35.538496   35.848473   68213304   \n",
       "4     24671002   35.557426   35.597652   35.228519   35.491171   98684008   \n",
       "...        ...         ...         ...         ...         ...        ...   \n",
       "1254  63305113  144.870000  146.640000  143.780000  145.670000   63305113   \n",
       "1255  77588759  145.860000  148.450000  145.050000  145.760000   77588759   \n",
       "1256  71185560  145.490000  146.450000  142.120100  142.990000   71185560   \n",
       "1257  78140744  148.470000  148.950000  143.250000  144.080000   78140744   \n",
       "1258  76259931  150.170000  150.860000  148.200000  149.780000   76259931   \n",
       "\n",
       "      divCash  splitFactor  \n",
       "0         0.0          1.0  \n",
       "1         0.0          1.0  \n",
       "2         0.0          1.0  \n",
       "3         0.0          1.0  \n",
       "4         0.0          1.0  \n",
       "...       ...          ...  \n",
       "1254      0.0          1.0  \n",
       "1255      0.0          1.0  \n",
       "1256      0.0          1.0  \n",
       "1257      0.0          1.0  \n",
       "1258      0.0          1.0  \n",
       "\n",
       "[1259 rows x 14 columns]"
      ]
     },
     "execution_count": 6,
     "metadata": {},
     "output_type": "execute_result"
    }
   ],
   "source": [
    "dataframe"
   ]
  },
  {
   "cell_type": "code",
   "execution_count": 7,
   "id": "022215a9",
   "metadata": {},
   "outputs": [],
   "source": [
    "dataframe1=dataframe.reset_index()['close']"
   ]
  },
  {
   "cell_type": "code",
   "execution_count": 8,
   "id": "f54040b2",
   "metadata": {},
   "outputs": [
    {
     "data": {
      "text/plain": [
       "0       149.56\n",
       "1       150.08\n",
       "2       151.02\n",
       "3       150.34\n",
       "4       150.27\n",
       "         ...  \n",
       "1254    144.87\n",
       "1255    145.86\n",
       "1256    145.49\n",
       "1257    148.47\n",
       "1258    150.17\n",
       "Name: close, Length: 1259, dtype: float64"
      ]
     },
     "execution_count": 8,
     "metadata": {},
     "output_type": "execute_result"
    }
   ],
   "source": [
    "# now dataframe contains only clossing values of stock.\n",
    "dataframe1"
   ]
  },
  {
   "cell_type": "code",
   "execution_count": 9,
   "id": "73459c7c",
   "metadata": {},
   "outputs": [],
   "source": [
    "import matplotlib.pyplot as plt"
   ]
  },
  {
   "cell_type": "code",
   "execution_count": 10,
   "id": "ea5e91fa",
   "metadata": {},
   "outputs": [
    {
     "data": {
      "text/plain": [
       "[<matplotlib.lines.Line2D at 0x1178d2a30>]"
      ]
     },
     "execution_count": 10,
     "metadata": {},
     "output_type": "execute_result"
    },
    {
     "data": {
      "image/png": "[encoded data removed]",
      "text/plain": [
       "<Figure size 432x288 with 1 Axes>"
      ]
     },
     "metadata": {
      "needs_background": "light"
     },
     "output_type": "display_data"
    }
   ],
   "source": [
    "# ploting current dataset values\n",
    "plt.plot(dataframe1)"
   ]
  },
  {
   "cell_type": "code",
   "execution_count": 11,
   "id": "38b62a4e",
   "metadata": {},
   "outputs": [],
   "source": [
    "import numpy as np"
   ]
  },
  {
   "cell_type": "code",
   "execution_count": 12,
   "id": "6c36ecaa",
   "metadata": {},
   "outputs": [],
   "source": [
    "from sklearn.preprocessing import MinMaxScaler\n",
    "scaler=MinMaxScaler(feature_range=(0,1))\n",
    "dataframe1=scaler.fit_transform(np.array(dataframe1).reshape(-1,1))"
   ]
  },
  {
   "cell_type": "code",
   "execution_count": 13,
   "id": "2a19a558",
   "metadata": {},
   "outputs": [
    {
     "data": {
      "text/plain": [
       "array([[0.10700063],\n",
       "       [0.10830307],\n",
       "       [0.11065748],\n",
       "       ...,\n",
       "       [0.09680651],\n",
       "       [0.10427051],\n",
       "       [0.10852849]])"
      ]
     },
     "execution_count": 13,
     "metadata": {},
     "output_type": "execute_result"
    }
   ],
   "source": [
    "#dataframe b=values are converted to range 0 to 1 \n",
    "dataframe1\n"
   ]
  },
  {
   "cell_type": "code",
   "execution_count": 14,
   "id": "3cc3849e",
   "metadata": {},
   "outputs": [],
   "source": [
    "#splitting dataset into train and test split"
   ]
  },
  {
   "cell_type": "code",
   "execution_count": 15,
   "id": "a7f937b4",
   "metadata": {},
   "outputs": [],
   "source": [
    "trainsize=int(len(dataframe1)*0.65);"
   ]
  },
  {
   "cell_type": "code",
   "execution_count": 16,
   "id": "f365d09a",
   "metadata": {},
   "outputs": [],
   "source": [
    "testsize=len(dataframe1)-trainsize;"
   ]
  },
  {
   "cell_type": "code",
   "execution_count": 17,
   "id": "c20f67d6",
   "metadata": {},
   "outputs": [],
   "source": [
    "traindata=dataframe1[0:trainsize,:]"
   ]
  },
  {
   "cell_type": "code",
   "execution_count": 18,
   "id": "94e6bf83",
   "metadata": {},
   "outputs": [],
   "source": [
    "testdata=dataframe1[trainsize:len(dataframe1),:]"
   ]
  },
  {
   "cell_type": "code",
   "execution_count": 19,
   "id": "280c9953",
   "metadata": {},
   "outputs": [],
   "source": [
    "import numpy\n",
    "def create_dataset(dataset,timestep=1):\n",
    "    datax,datay=[],[]\n",
    "    for i in range(len(dataset)-timestep-1):\n",
    "        a=dataset[i:(i+timestep),0]\n",
    "        datax.append(a)\n",
    "        datay.append(dataset[i+timestep,0])\n",
    "    return numpy.array(datax),numpy.array(datay)"
   ]
  },
  {
   "cell_type": "code",
   "execution_count": 20,
   "id": "6b82f361",
   "metadata": {},
   "outputs": [],
   "source": [
    "timestep=100\n",
    "xtrain,ytrain=create_dataset(traindata,timestep)\n",
    "xtest,ytest=create_dataset(testdata,timestep)"
   ]
  },
  {
   "cell_type": "code",
   "execution_count": 21,
   "id": "5d82f24d",
   "metadata": {},
   "outputs": [
    {
     "data": {
      "text/plain": [
       "array([[0.10700063, 0.10830307, 0.11065748, ..., 0.16082655, 0.15769568,\n",
       "        0.15729493],\n",
       "       [0.10830307, 0.11065748, 0.10895429, ..., 0.15769568, 0.15729493,\n",
       "        0.15571697],\n",
       "       [0.11065748, 0.10895429, 0.10877896, ..., 0.15729493, 0.15571697,\n",
       "        0.15649343],\n",
       "       ...,\n",
       "       [0.5212774 , 0.51671885, 0.53197245, ..., 0.02419537, 0.01582968,\n",
       "        0.0206387 ],\n",
       "       [0.51671885, 0.53197245, 0.52601127, ..., 0.01582968, 0.0206387 ,\n",
       "        0.02036318],\n",
       "       [0.53197245, 0.52601127, 0.53112085, ..., 0.0206387 , 0.02036318,\n",
       "        0.02537257]])"
      ]
     },
     "execution_count": 21,
     "metadata": {},
     "output_type": "execute_result"
    }
   ],
   "source": [
    "xtrain\n"
   ]
  },
  {
   "cell_type": "code",
   "execution_count": 22,
   "id": "932f1b99",
   "metadata": {},
   "outputs": [
    {
     "name": "stdout",
     "output_type": "stream",
     "text": [
      "(717, 100)\n"
     ]
    }
   ],
   "source": [
    "print(xtrain.shape)"
   ]
  },
  {
   "cell_type": "code",
   "execution_count": 23,
   "id": "ce273972",
   "metadata": {},
   "outputs": [],
   "source": [
    "# reshaping data so that we can give input to our lstm\n",
    "xtrain =xtrain.reshape(xtrain.shape[0],xtrain.shape[1] , 1)\n",
    "xtest = xtest.reshape(xtest.shape[0],xtest.shape[1] , 1)"
   ]
  },
  {
   "cell_type": "markdown",
   "id": "ccd654b3",
   "metadata": {},
   "source": []
  },
  {
   "cell_type": "code",
   "execution_count": 24,
   "id": "7f159c5d",
   "metadata": {},
   "outputs": [],
   "source": [
    "from tensorflow.keras.models import Sequential"
   ]
  },
  {
   "cell_type": "code",
   "execution_count": 25,
   "id": "de410c19",
   "metadata": {},
   "outputs": [],
   "source": [
    "from tensorflow.keras.layers import LSTM,Dense"
   ]
  },
  {
   "cell_type": "code",
   "execution_count": 26,
   "id": "91b377ae",
   "metadata": {},
   "outputs": [
    {
     "name": "stdout",
     "output_type": "stream",
     "text": [
      "Model: \"sequential\"\n",
      "_________________________________________________________________\n",
      " Layer (type)                Output Shape              Param #   \n",
      "=================================================================\n",
      " lstm (LSTM)                 (None, 100, 50)           10400     \n",
      "                                                                 \n",
      " lstm_1 (LSTM)               (None, 100, 50)           20200     \n",
      "                                                                 \n",
      " lstm_2 (LSTM)               (None, 50)                20200     \n",
      "                                                                 \n",
      " dense (Dense)               (None, 1)                 51        \n",
      "                                                                 \n",
      "=================================================================\n",
      "Total params: 50,851\n",
      "Trainable params: 50,851\n",
      "Non-trainable params: 0\n",
      "_________________________________________________________________\n"
     ]
    }
   ],
   "source": [
    "model=Sequential()\n",
    "model.add(LSTM(50,return_sequences=True,input_shape=(100,1)))\n",
    "model.add(LSTM(50,return_sequences=True))\n",
    "model.add(LSTM(50))\n",
    "model.add(Dense(1))\n",
    "model.compile(loss='mean_squared_error',optimizer='adam')\n",
    "model.summary()\n"
   ]
  },
  {
   "cell_type": "code",
   "execution_count": 27,
   "id": "9db00ff4",
   "metadata": {},
   "outputs": [
    {
     "name": "stdout",
     "output_type": "stream",
     "text": [
      "Epoch 1/100\n",
      "12/12 [==============================] - 10s 418ms/step - loss: 0.0323 - val_loss: 8.4433e-04\n",
      "Epoch 2/100\n",
      "12/12 [==============================] - 1s 120ms/step - loss: 0.0126 - val_loss: 0.0054\n",
      "Epoch 3/100\n",
      "12/12 [==============================] - 1s 120ms/step - loss: 0.0100 - val_loss: 5.3533e-04\n",
      "Epoch 4/100\n",
      "12/12 [==============================] - 1s 122ms/step - loss: 0.0087 - val_loss: 3.5076e-04\n",
      "Epoch 5/100\n",
      "12/12 [==============================] - 1s 121ms/step - loss: 0.0077 - val_loss: 2.7517e-04\n",
      "Epoch 6/100\n",
      "12/12 [==============================] - 1s 123ms/step - loss: 0.0068 - val_loss: 2.3065e-04\n",
      "Epoch 7/100\n",
      "12/12 [==============================] - 1s 125ms/step - loss: 0.0066 - val_loss: 3.3964e-04\n",
      "Epoch 8/100\n",
      "12/12 [==============================] - 1s 122ms/step - loss: 0.0056 - val_loss: 6.3211e-04\n",
      "Epoch 9/100\n",
      "12/12 [==============================] - 2s 131ms/step - loss: 0.0049 - val_loss: 3.0130e-04\n",
      "Epoch 10/100\n",
      "12/12 [==============================] - 1s 127ms/step - loss: 0.0044 - val_loss: 3.1722e-04\n",
      "Epoch 11/100\n",
      "12/12 [==============================] - 2s 129ms/step - loss: 0.0037 - val_loss: 4.3289e-04\n",
      "Epoch 12/100\n",
      "12/12 [==============================] - 1s 126ms/step - loss: 0.0052 - val_loss: 0.0016\n",
      "Epoch 13/100\n",
      "12/12 [==============================] - 2s 130ms/step - loss: 0.0044 - val_loss: 8.0632e-04\n",
      "Epoch 14/100\n",
      "12/12 [==============================] - 2s 130ms/step - loss: 0.0037 - val_loss: 8.0921e-04\n",
      "Epoch 15/100\n",
      "12/12 [==============================] - 2s 134ms/step - loss: 0.0032 - val_loss: 6.1455e-04\n",
      "Epoch 16/100\n",
      "12/12 [==============================] - 2s 131ms/step - loss: 0.0029 - val_loss: 0.0011\n",
      "Epoch 17/100\n",
      "12/12 [==============================] - 2s 134ms/step - loss: 0.0037 - val_loss: 2.3292e-04\n",
      "Epoch 18/100\n",
      "12/12 [==============================] - 2s 135ms/step - loss: 0.0031 - val_loss: 2.9788e-04\n",
      "Epoch 19/100\n",
      "12/12 [==============================] - 2s 128ms/step - loss: 0.0032 - val_loss: 2.2213e-04\n",
      "Epoch 20/100\n",
      "12/12 [==============================] - 2s 130ms/step - loss: 0.0027 - val_loss: 3.2228e-04\n",
      "Epoch 21/100\n",
      "12/12 [==============================] - 2s 130ms/step - loss: 0.0024 - val_loss: 2.5991e-04\n",
      "Epoch 22/100\n",
      "12/12 [==============================] - 1s 125ms/step - loss: 0.0031 - val_loss: 3.5334e-04\n",
      "Epoch 23/100\n",
      "12/12 [==============================] - 2s 136ms/step - loss: 0.0023 - val_loss: 2.1590e-04\n",
      "Epoch 24/100\n",
      "12/12 [==============================] - 2s 133ms/step - loss: 0.0023 - val_loss: 2.0741e-04\n",
      "Epoch 25/100\n",
      "12/12 [==============================] - 1s 118ms/step - loss: 0.0022 - val_loss: 1.9362e-04\n",
      "Epoch 26/100\n",
      "12/12 [==============================] - 2s 135ms/step - loss: 0.0023 - val_loss: 1.9876e-04\n",
      "Epoch 27/100\n",
      "12/12 [==============================] - 1s 126ms/step - loss: 0.0021 - val_loss: 2.9799e-04\n",
      "Epoch 28/100\n",
      "12/12 [==============================] - 2s 134ms/step - loss: 0.0020 - val_loss: 1.8877e-04\n",
      "Epoch 29/100\n",
      "12/12 [==============================] - 2s 134ms/step - loss: 0.0018 - val_loss: 2.4106e-04\n",
      "Epoch 30/100\n",
      "12/12 [==============================] - 2s 130ms/step - loss: 0.0022 - val_loss: 2.0177e-04\n",
      "Epoch 31/100\n",
      "12/12 [==============================] - 2s 136ms/step - loss: 0.0018 - val_loss: 2.0071e-04\n",
      "Epoch 32/100\n",
      "12/12 [==============================] - 2s 129ms/step - loss: 0.0020 - val_loss: 2.3646e-04\n",
      "Epoch 33/100\n",
      "12/12 [==============================] - 2s 129ms/step - loss: 0.0027 - val_loss: 2.2471e-04\n",
      "Epoch 34/100\n",
      "12/12 [==============================] - 2s 130ms/step - loss: 0.0023 - val_loss: 2.9373e-04\n",
      "Epoch 35/100\n",
      "12/12 [==============================] - 2s 138ms/step - loss: 0.0027 - val_loss: 2.6879e-04\n",
      "Epoch 36/100\n",
      "12/12 [==============================] - 2s 132ms/step - loss: 0.0020 - val_loss: 1.8973e-04\n",
      "Epoch 37/100\n",
      "12/12 [==============================] - 2s 129ms/step - loss: 0.0035 - val_loss: 6.3286e-04\n",
      "Epoch 38/100\n",
      "12/12 [==============================] - 1s 127ms/step - loss: 0.0026 - val_loss: 2.4474e-04\n",
      "Epoch 39/100\n",
      "12/12 [==============================] - 2s 136ms/step - loss: 0.0020 - val_loss: 2.2641e-04\n",
      "Epoch 40/100\n",
      "12/12 [==============================] - 2s 129ms/step - loss: 0.0024 - val_loss: 5.3964e-04\n",
      "Epoch 41/100\n",
      "12/12 [==============================] - 2s 129ms/step - loss: 0.0018 - val_loss: 1.8347e-04\n",
      "Epoch 42/100\n",
      "12/12 [==============================] - 2s 133ms/step - loss: 0.0021 - val_loss: 2.6641e-04\n",
      "Epoch 43/100\n",
      "12/12 [==============================] - 2s 129ms/step - loss: 0.0021 - val_loss: 2.9309e-04\n",
      "Epoch 44/100\n",
      "12/12 [==============================] - 2s 139ms/step - loss: 0.0029 - val_loss: 2.3063e-04\n",
      "Epoch 45/100\n",
      "12/12 [==============================] - 1s 123ms/step - loss: 0.0025 - val_loss: 2.0614e-04\n",
      "Epoch 46/100\n",
      "12/12 [==============================] - 2s 134ms/step - loss: 0.0018 - val_loss: 1.8718e-04\n",
      "Epoch 47/100\n",
      "12/12 [==============================] - 2s 132ms/step - loss: 0.0020 - val_loss: 1.8055e-04\n",
      "Epoch 48/100\n",
      "12/12 [==============================] - 1s 127ms/step - loss: 0.0022 - val_loss: 2.3786e-04\n",
      "Epoch 49/100\n",
      "12/12 [==============================] - 1s 124ms/step - loss: 0.0020 - val_loss: 1.8214e-04\n",
      "Epoch 50/100\n",
      "12/12 [==============================] - 1s 125ms/step - loss: 0.0018 - val_loss: 1.8176e-04\n",
      "Epoch 51/100\n",
      "12/12 [==============================] - 1s 127ms/step - loss: 0.0021 - val_loss: 2.1581e-04\n",
      "Epoch 52/100\n",
      "12/12 [==============================] - 2s 137ms/step - loss: 0.0080 - val_loss: 2.4263e-04\n",
      "Epoch 53/100\n",
      "12/12 [==============================] - 1s 126ms/step - loss: 0.0052 - val_loss: 2.7822e-04\n",
      "Epoch 54/100\n",
      "12/12 [==============================] - 2s 133ms/step - loss: 0.0049 - val_loss: 3.3184e-04\n",
      "Epoch 55/100\n",
      "12/12 [==============================] - 1s 125ms/step - loss: 0.0036 - val_loss: 2.5757e-04\n",
      "Epoch 56/100\n",
      "12/12 [==============================] - 2s 138ms/step - loss: 0.0036 - val_loss: 2.2143e-04\n",
      "Epoch 57/100\n",
      "12/12 [==============================] - 2s 138ms/step - loss: 0.0032 - val_loss: 1.7425e-04\n",
      "Epoch 58/100\n",
      "12/12 [==============================] - 2s 137ms/step - loss: 0.0032 - val_loss: 2.3989e-04\n",
      "Epoch 59/100\n",
      "12/12 [==============================] - 1s 120ms/step - loss: 0.0032 - val_loss: 2.5470e-04\n",
      "Epoch 60/100\n",
      "12/12 [==============================] - 2s 133ms/step - loss: 0.0032 - val_loss: 2.5513e-04\n",
      "Epoch 61/100\n",
      "12/12 [==============================] - 2s 129ms/step - loss: 0.0027 - val_loss: 2.1661e-04\n",
      "Epoch 62/100\n",
      "12/12 [==============================] - 2s 132ms/step - loss: 0.0027 - val_loss: 4.5228e-04\n",
      "Epoch 63/100\n",
      "12/12 [==============================] - 2s 129ms/step - loss: 0.0028 - val_loss: 4.2587e-04\n",
      "Epoch 64/100\n",
      "12/12 [==============================] - 2s 142ms/step - loss: 0.0025 - val_loss: 2.0006e-04\n",
      "Epoch 65/100\n",
      "12/12 [==============================] - 2s 128ms/step - loss: 0.0027 - val_loss: 1.7412e-04\n",
      "Epoch 66/100\n",
      "12/12 [==============================] - 2s 137ms/step - loss: 0.0022 - val_loss: 2.3779e-04\n",
      "Epoch 67/100\n",
      "12/12 [==============================] - 1s 124ms/step - loss: 0.0023 - val_loss: 2.1066e-04\n",
      "Epoch 68/100\n",
      "12/12 [==============================] - 2s 134ms/step - loss: 0.0022 - val_loss: 1.8302e-04\n",
      "Epoch 69/100\n",
      "12/12 [==============================] - 2s 132ms/step - loss: 0.0024 - val_loss: 2.6138e-04\n",
      "Epoch 70/100\n",
      "12/12 [==============================] - 2s 133ms/step - loss: 0.0020 - val_loss: 2.3425e-04\n",
      "Epoch 71/100\n",
      "12/12 [==============================] - 2s 130ms/step - loss: 0.0020 - val_loss: 1.4082e-04\n",
      "Epoch 72/100\n",
      "12/12 [==============================] - 1s 127ms/step - loss: 0.0018 - val_loss: 1.9873e-04\n",
      "Epoch 73/100\n",
      "12/12 [==============================] - 2s 139ms/step - loss: 0.0018 - val_loss: 2.1482e-04\n",
      "Epoch 74/100\n",
      "12/12 [==============================] - 2s 133ms/step - loss: 0.0019 - val_loss: 1.6970e-04\n",
      "Epoch 75/100\n",
      "12/12 [==============================] - 1s 125ms/step - loss: 0.0021 - val_loss: 2.4747e-04\n",
      "Epoch 76/100\n",
      "12/12 [==============================] - 2s 129ms/step - loss: 0.0019 - val_loss: 1.9354e-04\n",
      "Epoch 77/100\n",
      "12/12 [==============================] - 2s 130ms/step - loss: 0.0021 - val_loss: 1.5553e-04\n",
      "Epoch 78/100\n"
     ]
    },
    {
     "name": "stdout",
     "output_type": "stream",
     "text": [
      "12/12 [==============================] - 1s 121ms/step - loss: 0.0019 - val_loss: 1.5421e-04\n",
      "Epoch 79/100\n",
      "12/12 [==============================] - 2s 127ms/step - loss: 0.0022 - val_loss: 1.8608e-04\n",
      "Epoch 80/100\n",
      "12/12 [==============================] - 2s 132ms/step - loss: 0.0019 - val_loss: 1.6025e-04\n",
      "Epoch 81/100\n",
      "12/12 [==============================] - 2s 133ms/step - loss: 0.0018 - val_loss: 1.4133e-04\n",
      "Epoch 82/100\n",
      "12/12 [==============================] - 1s 125ms/step - loss: 0.0013 - val_loss: 1.6034e-04\n",
      "Epoch 83/100\n",
      "12/12 [==============================] - 2s 145ms/step - loss: 0.0015 - val_loss: 3.0780e-04\n",
      "Epoch 84/100\n",
      "12/12 [==============================] - 1s 127ms/step - loss: 0.0015 - val_loss: 3.4531e-04\n",
      "Epoch 85/100\n",
      "12/12 [==============================] - 2s 128ms/step - loss: 0.0013 - val_loss: 1.9967e-04\n",
      "Epoch 86/100\n",
      "12/12 [==============================] - 2s 132ms/step - loss: 0.0016 - val_loss: 1.4915e-04\n",
      "Epoch 87/100\n",
      "12/12 [==============================] - 2s 134ms/step - loss: 0.0014 - val_loss: 2.8212e-04\n",
      "Epoch 88/100\n",
      "12/12 [==============================] - 2s 137ms/step - loss: 0.0013 - val_loss: 2.1399e-04\n",
      "Epoch 89/100\n",
      "12/12 [==============================] - 2s 133ms/step - loss: 0.0012 - val_loss: 4.5449e-04\n",
      "Epoch 90/100\n",
      "12/12 [==============================] - 2s 129ms/step - loss: 0.0012 - val_loss: 2.1992e-04\n",
      "Epoch 91/100\n",
      "12/12 [==============================] - 2s 133ms/step - loss: 0.0011 - val_loss: 2.6003e-04\n",
      "Epoch 92/100\n",
      "12/12 [==============================] - 2s 139ms/step - loss: 0.0012 - val_loss: 2.7457e-04\n",
      "Epoch 93/100\n",
      "12/12 [==============================] - 2s 132ms/step - loss: 0.0010 - val_loss: 2.2505e-04\n",
      "Epoch 94/100\n",
      "12/12 [==============================] - 1s 125ms/step - loss: 9.5491e-04 - val_loss: 1.8033e-04\n",
      "Epoch 95/100\n",
      "12/12 [==============================] - 2s 131ms/step - loss: 0.0011 - val_loss: 1.5549e-04\n",
      "Epoch 96/100\n",
      "12/12 [==============================] - 2s 134ms/step - loss: 0.0010 - val_loss: 1.7659e-04\n",
      "Epoch 97/100\n",
      "12/12 [==============================] - 2s 133ms/step - loss: 0.0012 - val_loss: 1.3983e-04\n",
      "Epoch 98/100\n",
      "12/12 [==============================] - 1s 125ms/step - loss: 0.0012 - val_loss: 2.7026e-04\n",
      "Epoch 99/100\n",
      "12/12 [==============================] - 2s 138ms/step - loss: 9.8667e-04 - val_loss: 1.5973e-04\n",
      "Epoch 100/100\n",
      "12/12 [==============================] - 2s 135ms/step - loss: 9.9090e-04 - val_loss: 1.4153e-04\n"
     ]
    },
    {
     "data": {
      "text/plain": [
       "<keras.callbacks.History at 0x1784a6070>"
      ]
     },
     "execution_count": 27,
     "metadata": {},
     "output_type": "execute_result"
    }
   ],
   "source": [
    "model.fit(xtrain,ytrain,validation_data=(xtest,ytest),epochs=100,batch_size=64,verbose=1)"
   ]
  },
  {
   "cell_type": "code",
   "execution_count": 28,
   "id": "6f85db97",
   "metadata": {},
   "outputs": [],
   "source": [
    "# now after creating LSTM model we have to predict the values using the model"
   ]
  },
  {
   "cell_type": "code",
   "execution_count": 29,
   "id": "c2b4e5d3",
   "metadata": {},
   "outputs": [
    {
     "name": "stdout",
     "output_type": "stream",
     "text": [
      "23/23 [==============================] - 3s 72ms/step\n"
     ]
    }
   ],
   "source": [
    "trainpredict=model.predict(xtrain)"
   ]
  },
  {
   "cell_type": "code",
   "execution_count": 30,
   "id": "b000df5b",
   "metadata": {},
   "outputs": [
    {
     "name": "stdout",
     "output_type": "stream",
     "text": [
      "11/11 [==============================] - 1s 96ms/step\n"
     ]
    }
   ],
   "source": [
    "testpredict=model.predict(xtest)"
   ]
  },
  {
   "cell_type": "code",
   "execution_count": 31,
   "id": "d359cfc7",
   "metadata": {},
   "outputs": [],
   "source": [
    "trainpredict=scaler.inverse_transform(trainpredict)"
   ]
  },
  {
   "cell_type": "code",
   "execution_count": 32,
   "id": "eb33b0b5",
   "metadata": {},
   "outputs": [],
   "source": [
    "testpredict=scaler.inverse_transform(testpredict)"
   ]
  },
  {
   "cell_type": "code",
   "execution_count": 33,
   "id": "ac1848e3",
   "metadata": {},
   "outputs": [
    {
     "data": {
      "text/plain": [
       "235.91055036441514"
      ]
     },
     "execution_count": 33,
     "metadata": {},
     "output_type": "execute_result"
    }
   ],
   "source": [
    "import math\n",
    "from sklearn.metrics import mean_squared_error\n",
    "math.sqrt(mean_squared_error(ytrain,trainpredict))"
   ]
  },
  {
   "cell_type": "code",
   "execution_count": 34,
   "id": "13b977b1",
   "metadata": {},
   "outputs": [
    {
     "data": {
      "text/plain": [
       "151.22311718077742"
      ]
     },
     "execution_count": 34,
     "metadata": {},
     "output_type": "execute_result"
    }
   ],
   "source": [
    "math.sqrt(mean_squared_error(ytest,testpredict))"
   ]
  },
  {
   "cell_type": "code",
   "execution_count": 35,
   "id": "c0fdce0e",
   "metadata": {},
   "outputs": [
    {
     "data": {
      "image/png": "[encoded data removed]",
      "text/plain": [
       "<Figure size 432x288 with 1 Axes>"
      ]
     },
     "metadata": {
      "needs_background": "light"
     },
     "output_type": "display_data"
    }
   ],
   "source": [
    "#Plotting \n",
    "# shift train predictions for plotting\n",
    "look_back=100\n",
    "trainPredictPlot = numpy.empty_like(dataframe1)\n",
    "trainPredictPlot[:, :] = np.nan\n",
    "trainPredictPlot[look_back:len(trainpredict)+look_back, :] = trainpredict\n",
    "# shift test predictions for plotting\n",
    "testPredictPlot = numpy.empty_like(dataframe1)\n",
    "testPredictPlot[:, :] = numpy.nan\n",
    "testPredictPlot[len(trainpredict)+(look_back*2)+1:len(dataframe1)-1, :] = testpredict\n",
    "# plot baseline and predictions\n",
    "plt.plot(scaler.inverse_transform(dataframe1))\n",
    "plt.plot(trainPredictPlot)\n",
    "plt.plot(testPredictPlot)\n",
    "plt.show()"
   ]
  },
  {
   "cell_type": "code",
   "execution_count": 36,
   "id": "1930b94e",
   "metadata": {},
   "outputs": [
    {
     "data": {
      "text/plain": [
       "441"
      ]
     },
     "execution_count": 36,
     "metadata": {},
     "output_type": "execute_result"
    }
   ],
   "source": [
    "len(testdata)"
   ]
  },
  {
   "cell_type": "code",
   "execution_count": 37,
   "id": "0687d616",
   "metadata": {},
   "outputs": [
    {
     "data": {
      "text/plain": [
       "(1, 100)"
      ]
     },
     "execution_count": 37,
     "metadata": {},
     "output_type": "execute_result"
    }
   ],
   "source": [
    "#taking 100 values for future prediction\n",
    "xinput=testdata[341:].reshape(1,-1)\n",
    "xinput.shape"
   ]
  },
  {
   "cell_type": "code",
   "execution_count": 38,
   "id": "daf939d0",
   "metadata": {},
   "outputs": [],
   "source": [
    "#convertig x inputarray to list\n",
    "listinput=list(xinput)\n",
    "listinput=listinput[0].tolist()"
   ]
  },
  {
   "cell_type": "code",
   "execution_count": 39,
   "id": "2c86d88a",
   "metadata": {},
   "outputs": [
    {
     "data": {
      "text/plain": [
       "[0.14396994364433308,\n",
       " 0.13332498434564805,\n",
       " 0.14001252348152782,\n",
       " 0.14529743268628675,\n",
       " 0.14597370068879145,\n",
       " 0.14116468378209135,\n",
       " 0.14958046336881647,\n",
       " 0.1487539135879774,\n",
       " 0.14108954289292414,\n",
       " 0.13139636819035688,\n",
       " 0.1267376330619912,\n",
       " 0.1405385097056981,\n",
       " 0.12944270507201,\n",
       " 0.11994990607388845,\n",
       " 0.10965560425798371,\n",
       " 0.12085159674389478,\n",
       " 0.13212273011897302,\n",
       " 0.13470256731371316,\n",
       " 0.14311834690043823,\n",
       " 0.14662492172824038,\n",
       " 0.1552410770194113,\n",
       " 0.1587226048841578,\n",
       " 0.16839073262366933,\n",
       " 0.17001878522229175,\n",
       " 0.17222291797119593,\n",
       " 0.18063869755792106,\n",
       " 0.1776581089542893,\n",
       " 0.16974326862867878,\n",
       " 0.16899185973700687,\n",
       " 0.1793362554790231,\n",
       " 0.17087038196618654,\n",
       " 0.16278021289918598,\n",
       " 0.1635566687539135,\n",
       " 0.158422041327489,\n",
       " 0.14755165936130238,\n",
       " 0.1523356293049467,\n",
       " 0.15919849718221663,\n",
       " 0.14639949906073885,\n",
       " 0.1458484658735128,\n",
       " 0.15168440826549778,\n",
       " 0.15125860989355033,\n",
       " 0.14922980588603624,\n",
       " 0.13763306199123349,\n",
       " 0.140363180964308,\n",
       " 0.1251346274264245,\n",
       " 0.12455854727614268,\n",
       " 0.14226675015654344,\n",
       " 0.12726361928616153,\n",
       " 0.12804007514088916,\n",
       " 0.13184721352536,\n",
       " 0.14822792736380713,\n",
       " 0.12505948653725735,\n",
       " 0.12633688165309953,\n",
       " 0.11326236693800873,\n",
       " 0.11939887288666245,\n",
       " 0.09933625547902314,\n",
       " 0.08946775203506574,\n",
       " 0.10086412022542268,\n",
       " 0.09693174702567309,\n",
       " 0.10619912335629306,\n",
       " 0.08510958046336875,\n",
       " 0.0764182842830306,\n",
       " 0.07701941139636814,\n",
       " 0.09084533500313086,\n",
       " 0.08395742016280527,\n",
       " 0.0843581715716969,\n",
       " 0.09252348152786471,\n",
       " 0.10720100187852216,\n",
       " 0.10519724483406384,\n",
       " 0.10487163431433938,\n",
       " 0.11113337507827176,\n",
       " 0.09653099561678141,\n",
       " 0.09843456480901686,\n",
       " 0.10487163431433938,\n",
       " 0.10299311208515965,\n",
       " 0.0896681277395115,\n",
       " 0.07586725109580456,\n",
       " 0.0627175954915466,\n",
       " 0.06492172824045078,\n",
       " 0.07160926737633061,\n",
       " 0.05815904821540385,\n",
       " 0.061916092673763246,\n",
       " 0.0727113337507827,\n",
       " 0.07140889167188474,\n",
       " 0.07872260488415778,\n",
       " 0.08721352536005006,\n",
       " 0.08721352536005006,\n",
       " 0.07664370695053219,\n",
       " 0.08112711333750777,\n",
       " 0.07484032561051968,\n",
       " 0.08037570444583592,\n",
       " 0.08696305572949276,\n",
       " 0.09036944270507191,\n",
       " 0.09896055103318718,\n",
       " 0.10068879148403248,\n",
       " 0.09525360050093923,\n",
       " 0.0977332498434565,\n",
       " 0.09680651221039449,\n",
       " 0.10427050720100184,\n",
       " 0.10852849092047584]"
      ]
     },
     "execution_count": 39,
     "metadata": {},
     "output_type": "execute_result"
    }
   ],
   "source": [
    "listinput\n"
   ]
  },
  {
   "cell_type": "code",
   "execution_count": 40,
   "id": "c27371aa",
   "metadata": {},
   "outputs": [
    {
     "name": "stdout",
     "output_type": "stream",
     "text": [
      "[0.10254095]\n",
      "101\n",
      "1 day input [0.13332498 0.14001252 0.14529743 0.1459737  0.14116468 0.14958046\n",
      " 0.14875391 0.14108954 0.13139637 0.12673763 0.14053851 0.12944271\n",
      " 0.11994991 0.1096556  0.1208516  0.13212273 0.13470257 0.14311835\n",
      " 0.14662492 0.15524108 0.1587226  0.16839073 0.17001879 0.17222292\n",
      " 0.1806387  0.17765811 0.16974327 0.16899186 0.17933626 0.17087038\n",
      " 0.16278021 0.16355667 0.15842204 0.14755166 0.15233563 0.1591985\n",
      " 0.1463995  0.14584847 0.15168441 0.15125861 0.14922981 0.13763306\n",
      " 0.14036318 0.12513463 0.12455855 0.14226675 0.12726362 0.12804008\n",
      " 0.13184721 0.14822793 0.12505949 0.12633688 0.11326237 0.11939887\n",
      " 0.09933626 0.08946775 0.10086412 0.09693175 0.10619912 0.08510958\n",
      " 0.07641828 0.07701941 0.09084534 0.08395742 0.08435817 0.09252348\n",
      " 0.107201   0.10519724 0.10487163 0.11113338 0.096531   0.09843456\n",
      " 0.10487163 0.10299311 0.08966813 0.07586725 0.0627176  0.06492173\n",
      " 0.07160927 0.05815905 0.06191609 0.07271133 0.07140889 0.0787226\n",
      " 0.08721353 0.08721353 0.07664371 0.08112711 0.07484033 0.0803757\n",
      " 0.08696306 0.09036944 0.09896055 0.10068879 0.0952536  0.09773325\n",
      " 0.09680651 0.10427051 0.10852849 0.10254095]\n",
      "1 day output [[0.10439372]]\n",
      "2 day input [0.14001252 0.14529743 0.1459737  0.14116468 0.14958046 0.14875391\n",
      " 0.14108954 0.13139637 0.12673763 0.14053851 0.12944271 0.11994991\n",
      " 0.1096556  0.1208516  0.13212273 0.13470257 0.14311835 0.14662492\n",
      " 0.15524108 0.1587226  0.16839073 0.17001879 0.17222292 0.1806387\n",
      " 0.17765811 0.16974327 0.16899186 0.17933626 0.17087038 0.16278021\n",
      " 0.16355667 0.15842204 0.14755166 0.15233563 0.1591985  0.1463995\n",
      " 0.14584847 0.15168441 0.15125861 0.14922981 0.13763306 0.14036318\n",
      " 0.12513463 0.12455855 0.14226675 0.12726362 0.12804008 0.13184721\n",
      " 0.14822793 0.12505949 0.12633688 0.11326237 0.11939887 0.09933626\n",
      " 0.08946775 0.10086412 0.09693175 0.10619912 0.08510958 0.07641828\n",
      " 0.07701941 0.09084534 0.08395742 0.08435817 0.09252348 0.107201\n",
      " 0.10519724 0.10487163 0.11113338 0.096531   0.09843456 0.10487163\n",
      " 0.10299311 0.08966813 0.07586725 0.0627176  0.06492173 0.07160927\n",
      " 0.05815905 0.06191609 0.07271133 0.07140889 0.0787226  0.08721353\n",
      " 0.08721353 0.07664371 0.08112711 0.07484033 0.0803757  0.08696306\n",
      " 0.09036944 0.09896055 0.10068879 0.0952536  0.09773325 0.09680651\n",
      " 0.10427051 0.10852849 0.10254095 0.10439372]\n",
      "2 day output [[0.10587333]]\n",
      "3 day input [0.14529743 0.1459737  0.14116468 0.14958046 0.14875391 0.14108954\n",
      " 0.13139637 0.12673763 0.14053851 0.12944271 0.11994991 0.1096556\n",
      " 0.1208516  0.13212273 0.13470257 0.14311835 0.14662492 0.15524108\n",
      " 0.1587226  0.16839073 0.17001879 0.17222292 0.1806387  0.17765811\n",
      " 0.16974327 0.16899186 0.17933626 0.17087038 0.16278021 0.16355667\n",
      " 0.15842204 0.14755166 0.15233563 0.1591985  0.1463995  0.14584847\n",
      " 0.15168441 0.15125861 0.14922981 0.13763306 0.14036318 0.12513463\n",
      " 0.12455855 0.14226675 0.12726362 0.12804008 0.13184721 0.14822793\n",
      " 0.12505949 0.12633688 0.11326237 0.11939887 0.09933626 0.08946775\n",
      " 0.10086412 0.09693175 0.10619912 0.08510958 0.07641828 0.07701941\n",
      " 0.09084534 0.08395742 0.08435817 0.09252348 0.107201   0.10519724\n",
      " 0.10487163 0.11113338 0.096531   0.09843456 0.10487163 0.10299311\n",
      " 0.08966813 0.07586725 0.0627176  0.06492173 0.07160927 0.05815905\n",
      " 0.06191609 0.07271133 0.07140889 0.0787226  0.08721353 0.08721353\n",
      " 0.07664371 0.08112711 0.07484033 0.0803757  0.08696306 0.09036944\n",
      " 0.09896055 0.10068879 0.0952536  0.09773325 0.09680651 0.10427051\n",
      " 0.10852849 0.10254095 0.10439372 0.10587333]\n",
      "3 day output [[0.10709399]]\n",
      "4 day input [0.1459737  0.14116468 0.14958046 0.14875391 0.14108954 0.13139637\n",
      " 0.12673763 0.14053851 0.12944271 0.11994991 0.1096556  0.1208516\n",
      " 0.13212273 0.13470257 0.14311835 0.14662492 0.15524108 0.1587226\n",
      " 0.16839073 0.17001879 0.17222292 0.1806387  0.17765811 0.16974327\n",
      " 0.16899186 0.17933626 0.17087038 0.16278021 0.16355667 0.15842204\n",
      " 0.14755166 0.15233563 0.1591985  0.1463995  0.14584847 0.15168441\n",
      " 0.15125861 0.14922981 0.13763306 0.14036318 0.12513463 0.12455855\n",
      " 0.14226675 0.12726362 0.12804008 0.13184721 0.14822793 0.12505949\n",
      " 0.12633688 0.11326237 0.11939887 0.09933626 0.08946775 0.10086412\n",
      " 0.09693175 0.10619912 0.08510958 0.07641828 0.07701941 0.09084534\n",
      " 0.08395742 0.08435817 0.09252348 0.107201   0.10519724 0.10487163\n",
      " 0.11113338 0.096531   0.09843456 0.10487163 0.10299311 0.08966813\n",
      " 0.07586725 0.0627176  0.06492173 0.07160927 0.05815905 0.06191609\n",
      " 0.07271133 0.07140889 0.0787226  0.08721353 0.08721353 0.07664371\n",
      " 0.08112711 0.07484033 0.0803757  0.08696306 0.09036944 0.09896055\n",
      " 0.10068879 0.0952536  0.09773325 0.09680651 0.10427051 0.10852849\n",
      " 0.10254095 0.10439372 0.10587333 0.10709399]\n",
      "4 day output [[0.10816571]]\n",
      "5 day input [0.14116468 0.14958046 0.14875391 0.14108954 0.13139637 0.12673763\n",
      " 0.14053851 0.12944271 0.11994991 0.1096556  0.1208516  0.13212273\n",
      " 0.13470257 0.14311835 0.14662492 0.15524108 0.1587226  0.16839073\n",
      " 0.17001879 0.17222292 0.1806387  0.17765811 0.16974327 0.16899186\n",
      " 0.17933626 0.17087038 0.16278021 0.16355667 0.15842204 0.14755166\n",
      " 0.15233563 0.1591985  0.1463995  0.14584847 0.15168441 0.15125861\n",
      " 0.14922981 0.13763306 0.14036318 0.12513463 0.12455855 0.14226675\n",
      " 0.12726362 0.12804008 0.13184721 0.14822793 0.12505949 0.12633688\n",
      " 0.11326237 0.11939887 0.09933626 0.08946775 0.10086412 0.09693175\n",
      " 0.10619912 0.08510958 0.07641828 0.07701941 0.09084534 0.08395742\n",
      " 0.08435817 0.09252348 0.107201   0.10519724 0.10487163 0.11113338\n",
      " 0.096531   0.09843456 0.10487163 0.10299311 0.08966813 0.07586725\n",
      " 0.0627176  0.06492173 0.07160927 0.05815905 0.06191609 0.07271133\n",
      " 0.07140889 0.0787226  0.08721353 0.08721353 0.07664371 0.08112711\n",
      " 0.07484033 0.0803757  0.08696306 0.09036944 0.09896055 0.10068879\n",
      " 0.0952536  0.09773325 0.09680651 0.10427051 0.10852849 0.10254095\n",
      " 0.10439372 0.10587333 0.10709399 0.10816571]\n",
      "5 day output [[0.10915899]]\n",
      "6 day input [0.14958046 0.14875391 0.14108954 0.13139637 0.12673763 0.14053851\n",
      " 0.12944271 0.11994991 0.1096556  0.1208516  0.13212273 0.13470257\n",
      " 0.14311835 0.14662492 0.15524108 0.1587226  0.16839073 0.17001879\n",
      " 0.17222292 0.1806387  0.17765811 0.16974327 0.16899186 0.17933626\n",
      " 0.17087038 0.16278021 0.16355667 0.15842204 0.14755166 0.15233563\n",
      " 0.1591985  0.1463995  0.14584847 0.15168441 0.15125861 0.14922981\n",
      " 0.13763306 0.14036318 0.12513463 0.12455855 0.14226675 0.12726362\n",
      " 0.12804008 0.13184721 0.14822793 0.12505949 0.12633688 0.11326237\n",
      " 0.11939887 0.09933626 0.08946775 0.10086412 0.09693175 0.10619912\n",
      " 0.08510958 0.07641828 0.07701941 0.09084534 0.08395742 0.08435817\n",
      " 0.09252348 0.107201   0.10519724 0.10487163 0.11113338 0.096531\n",
      " 0.09843456 0.10487163 0.10299311 0.08966813 0.07586725 0.0627176\n",
      " 0.06492173 0.07160927 0.05815905 0.06191609 0.07271133 0.07140889\n",
      " 0.0787226  0.08721353 0.08721353 0.07664371 0.08112711 0.07484033\n",
      " 0.0803757  0.08696306 0.09036944 0.09896055 0.10068879 0.0952536\n",
      " 0.09773325 0.09680651 0.10427051 0.10852849 0.10254095 0.10439372\n",
      " 0.10587333 0.10709399 0.10816571 0.10915899]\n",
      "6 day output [[0.11010972]]\n",
      "7 day input [0.14875391 0.14108954 0.13139637 0.12673763 0.14053851 0.12944271\n",
      " 0.11994991 0.1096556  0.1208516  0.13212273 0.13470257 0.14311835\n",
      " 0.14662492 0.15524108 0.1587226  0.16839073 0.17001879 0.17222292\n",
      " 0.1806387  0.17765811 0.16974327 0.16899186 0.17933626 0.17087038\n",
      " 0.16278021 0.16355667 0.15842204 0.14755166 0.15233563 0.1591985\n",
      " 0.1463995  0.14584847 0.15168441 0.15125861 0.14922981 0.13763306\n",
      " 0.14036318 0.12513463 0.12455855 0.14226675 0.12726362 0.12804008\n",
      " 0.13184721 0.14822793 0.12505949 0.12633688 0.11326237 0.11939887\n",
      " 0.09933626 0.08946775 0.10086412 0.09693175 0.10619912 0.08510958\n",
      " 0.07641828 0.07701941 0.09084534 0.08395742 0.08435817 0.09252348\n",
      " 0.107201   0.10519724 0.10487163 0.11113338 0.096531   0.09843456\n",
      " 0.10487163 0.10299311 0.08966813 0.07586725 0.0627176  0.06492173\n",
      " 0.07160927 0.05815905 0.06191609 0.07271133 0.07140889 0.0787226\n",
      " 0.08721353 0.08721353 0.07664371 0.08112711 0.07484033 0.0803757\n",
      " 0.08696306 0.09036944 0.09896055 0.10068879 0.0952536  0.09773325\n",
      " 0.09680651 0.10427051 0.10852849 0.10254095 0.10439372 0.10587333\n",
      " 0.10709399 0.10816571 0.10915899 0.11010972]\n",
      "7 day output [[0.11103218]]\n",
      "8 day input [0.14108954 0.13139637 0.12673763 0.14053851 0.12944271 0.11994991\n",
      " 0.1096556  0.1208516  0.13212273 0.13470257 0.14311835 0.14662492\n",
      " 0.15524108 0.1587226  0.16839073 0.17001879 0.17222292 0.1806387\n",
      " 0.17765811 0.16974327 0.16899186 0.17933626 0.17087038 0.16278021\n",
      " 0.16355667 0.15842204 0.14755166 0.15233563 0.1591985  0.1463995\n",
      " 0.14584847 0.15168441 0.15125861 0.14922981 0.13763306 0.14036318\n",
      " 0.12513463 0.12455855 0.14226675 0.12726362 0.12804008 0.13184721\n",
      " 0.14822793 0.12505949 0.12633688 0.11326237 0.11939887 0.09933626\n",
      " 0.08946775 0.10086412 0.09693175 0.10619912 0.08510958 0.07641828\n",
      " 0.07701941 0.09084534 0.08395742 0.08435817 0.09252348 0.107201\n",
      " 0.10519724 0.10487163 0.11113338 0.096531   0.09843456 0.10487163\n",
      " 0.10299311 0.08966813 0.07586725 0.0627176  0.06492173 0.07160927\n",
      " 0.05815905 0.06191609 0.07271133 0.07140889 0.0787226  0.08721353\n",
      " 0.08721353 0.07664371 0.08112711 0.07484033 0.0803757  0.08696306\n",
      " 0.09036944 0.09896055 0.10068879 0.0952536  0.09773325 0.09680651\n",
      " 0.10427051 0.10852849 0.10254095 0.10439372 0.10587333 0.10709399\n",
      " 0.10816571 0.10915899 0.11010972 0.11103218]\n",
      "8 day output [[0.11192971]]\n",
      "9 day input [0.13139637 0.12673763 0.14053851 0.12944271 0.11994991 0.1096556\n",
      " 0.1208516  0.13212273 0.13470257 0.14311835 0.14662492 0.15524108\n",
      " 0.1587226  0.16839073 0.17001879 0.17222292 0.1806387  0.17765811\n",
      " 0.16974327 0.16899186 0.17933626 0.17087038 0.16278021 0.16355667\n",
      " 0.15842204 0.14755166 0.15233563 0.1591985  0.1463995  0.14584847\n",
      " 0.15168441 0.15125861 0.14922981 0.13763306 0.14036318 0.12513463\n",
      " 0.12455855 0.14226675 0.12726362 0.12804008 0.13184721 0.14822793\n",
      " 0.12505949 0.12633688 0.11326237 0.11939887 0.09933626 0.08946775\n",
      " 0.10086412 0.09693175 0.10619912 0.08510958 0.07641828 0.07701941\n",
      " 0.09084534 0.08395742 0.08435817 0.09252348 0.107201   0.10519724\n",
      " 0.10487163 0.11113338 0.096531   0.09843456 0.10487163 0.10299311\n",
      " 0.08966813 0.07586725 0.0627176  0.06492173 0.07160927 0.05815905\n",
      " 0.06191609 0.07271133 0.07140889 0.0787226  0.08721353 0.08721353\n",
      " 0.07664371 0.08112711 0.07484033 0.0803757  0.08696306 0.09036944\n",
      " 0.09896055 0.10068879 0.0952536  0.09773325 0.09680651 0.10427051\n",
      " 0.10852849 0.10254095 0.10439372 0.10587333 0.10709399 0.10816571\n",
      " 0.10915899 0.11010972 0.11103218 0.11192971]\n"
     ]
    },
    {
     "name": "stdout",
     "output_type": "stream",
     "text": [
      "9 day output [[0.11280081]]\n",
      "10 day input [0.12673763 0.14053851 0.12944271 0.11994991 0.1096556  0.1208516\n",
      " 0.13212273 0.13470257 0.14311835 0.14662492 0.15524108 0.1587226\n",
      " 0.16839073 0.17001879 0.17222292 0.1806387  0.17765811 0.16974327\n",
      " 0.16899186 0.17933626 0.17087038 0.16278021 0.16355667 0.15842204\n",
      " 0.14755166 0.15233563 0.1591985  0.1463995  0.14584847 0.15168441\n",
      " 0.15125861 0.14922981 0.13763306 0.14036318 0.12513463 0.12455855\n",
      " 0.14226675 0.12726362 0.12804008 0.13184721 0.14822793 0.12505949\n",
      " 0.12633688 0.11326237 0.11939887 0.09933626 0.08946775 0.10086412\n",
      " 0.09693175 0.10619912 0.08510958 0.07641828 0.07701941 0.09084534\n",
      " 0.08395742 0.08435817 0.09252348 0.107201   0.10519724 0.10487163\n",
      " 0.11113338 0.096531   0.09843456 0.10487163 0.10299311 0.08966813\n",
      " 0.07586725 0.0627176  0.06492173 0.07160927 0.05815905 0.06191609\n",
      " 0.07271133 0.07140889 0.0787226  0.08721353 0.08721353 0.07664371\n",
      " 0.08112711 0.07484033 0.0803757  0.08696306 0.09036944 0.09896055\n",
      " 0.10068879 0.0952536  0.09773325 0.09680651 0.10427051 0.10852849\n",
      " 0.10254095 0.10439372 0.10587333 0.10709399 0.10816571 0.10915899\n",
      " 0.11010972 0.11103218 0.11192971 0.11280081]\n",
      "10 day output [[0.11364277]]\n",
      "11 day input [0.14053851 0.12944271 0.11994991 0.1096556  0.1208516  0.13212273\n",
      " 0.13470257 0.14311835 0.14662492 0.15524108 0.1587226  0.16839073\n",
      " 0.17001879 0.17222292 0.1806387  0.17765811 0.16974327 0.16899186\n",
      " 0.17933626 0.17087038 0.16278021 0.16355667 0.15842204 0.14755166\n",
      " 0.15233563 0.1591985  0.1463995  0.14584847 0.15168441 0.15125861\n",
      " 0.14922981 0.13763306 0.14036318 0.12513463 0.12455855 0.14226675\n",
      " 0.12726362 0.12804008 0.13184721 0.14822793 0.12505949 0.12633688\n",
      " 0.11326237 0.11939887 0.09933626 0.08946775 0.10086412 0.09693175\n",
      " 0.10619912 0.08510958 0.07641828 0.07701941 0.09084534 0.08395742\n",
      " 0.08435817 0.09252348 0.107201   0.10519724 0.10487163 0.11113338\n",
      " 0.096531   0.09843456 0.10487163 0.10299311 0.08966813 0.07586725\n",
      " 0.0627176  0.06492173 0.07160927 0.05815905 0.06191609 0.07271133\n",
      " 0.07140889 0.0787226  0.08721353 0.08721353 0.07664371 0.08112711\n",
      " 0.07484033 0.0803757  0.08696306 0.09036944 0.09896055 0.10068879\n",
      " 0.0952536  0.09773325 0.09680651 0.10427051 0.10852849 0.10254095\n",
      " 0.10439372 0.10587333 0.10709399 0.10816571 0.10915899 0.11010972\n",
      " 0.11103218 0.11192971 0.11280081 0.11364277]\n",
      "11 day output [[0.11445303]]\n",
      "12 day input [0.12944271 0.11994991 0.1096556  0.1208516  0.13212273 0.13470257\n",
      " 0.14311835 0.14662492 0.15524108 0.1587226  0.16839073 0.17001879\n",
      " 0.17222292 0.1806387  0.17765811 0.16974327 0.16899186 0.17933626\n",
      " 0.17087038 0.16278021 0.16355667 0.15842204 0.14755166 0.15233563\n",
      " 0.1591985  0.1463995  0.14584847 0.15168441 0.15125861 0.14922981\n",
      " 0.13763306 0.14036318 0.12513463 0.12455855 0.14226675 0.12726362\n",
      " 0.12804008 0.13184721 0.14822793 0.12505949 0.12633688 0.11326237\n",
      " 0.11939887 0.09933626 0.08946775 0.10086412 0.09693175 0.10619912\n",
      " 0.08510958 0.07641828 0.07701941 0.09084534 0.08395742 0.08435817\n",
      " 0.09252348 0.107201   0.10519724 0.10487163 0.11113338 0.096531\n",
      " 0.09843456 0.10487163 0.10299311 0.08966813 0.07586725 0.0627176\n",
      " 0.06492173 0.07160927 0.05815905 0.06191609 0.07271133 0.07140889\n",
      " 0.0787226  0.08721353 0.08721353 0.07664371 0.08112711 0.07484033\n",
      " 0.0803757  0.08696306 0.09036944 0.09896055 0.10068879 0.0952536\n",
      " 0.09773325 0.09680651 0.10427051 0.10852849 0.10254095 0.10439372\n",
      " 0.10587333 0.10709399 0.10816571 0.10915899 0.11010972 0.11103218\n",
      " 0.11192971 0.11280081 0.11364277 0.11445303]\n",
      "12 day output [[0.11522992]]\n",
      "13 day input [0.11994991 0.1096556  0.1208516  0.13212273 0.13470257 0.14311835\n",
      " 0.14662492 0.15524108 0.1587226  0.16839073 0.17001879 0.17222292\n",
      " 0.1806387  0.17765811 0.16974327 0.16899186 0.17933626 0.17087038\n",
      " 0.16278021 0.16355667 0.15842204 0.14755166 0.15233563 0.1591985\n",
      " 0.1463995  0.14584847 0.15168441 0.15125861 0.14922981 0.13763306\n",
      " 0.14036318 0.12513463 0.12455855 0.14226675 0.12726362 0.12804008\n",
      " 0.13184721 0.14822793 0.12505949 0.12633688 0.11326237 0.11939887\n",
      " 0.09933626 0.08946775 0.10086412 0.09693175 0.10619912 0.08510958\n",
      " 0.07641828 0.07701941 0.09084534 0.08395742 0.08435817 0.09252348\n",
      " 0.107201   0.10519724 0.10487163 0.11113338 0.096531   0.09843456\n",
      " 0.10487163 0.10299311 0.08966813 0.07586725 0.0627176  0.06492173\n",
      " 0.07160927 0.05815905 0.06191609 0.07271133 0.07140889 0.0787226\n",
      " 0.08721353 0.08721353 0.07664371 0.08112711 0.07484033 0.0803757\n",
      " 0.08696306 0.09036944 0.09896055 0.10068879 0.0952536  0.09773325\n",
      " 0.09680651 0.10427051 0.10852849 0.10254095 0.10439372 0.10587333\n",
      " 0.10709399 0.10816571 0.10915899 0.11010972 0.11103218 0.11192971\n",
      " 0.11280081 0.11364277 0.11445303 0.11522992]\n",
      "13 day output [[0.11597297]]\n",
      "14 day input [0.1096556  0.1208516  0.13212273 0.13470257 0.14311835 0.14662492\n",
      " 0.15524108 0.1587226  0.16839073 0.17001879 0.17222292 0.1806387\n",
      " 0.17765811 0.16974327 0.16899186 0.17933626 0.17087038 0.16278021\n",
      " 0.16355667 0.15842204 0.14755166 0.15233563 0.1591985  0.1463995\n",
      " 0.14584847 0.15168441 0.15125861 0.14922981 0.13763306 0.14036318\n",
      " 0.12513463 0.12455855 0.14226675 0.12726362 0.12804008 0.13184721\n",
      " 0.14822793 0.12505949 0.12633688 0.11326237 0.11939887 0.09933626\n",
      " 0.08946775 0.10086412 0.09693175 0.10619912 0.08510958 0.07641828\n",
      " 0.07701941 0.09084534 0.08395742 0.08435817 0.09252348 0.107201\n",
      " 0.10519724 0.10487163 0.11113338 0.096531   0.09843456 0.10487163\n",
      " 0.10299311 0.08966813 0.07586725 0.0627176  0.06492173 0.07160927\n",
      " 0.05815905 0.06191609 0.07271133 0.07140889 0.0787226  0.08721353\n",
      " 0.08721353 0.07664371 0.08112711 0.07484033 0.0803757  0.08696306\n",
      " 0.09036944 0.09896055 0.10068879 0.0952536  0.09773325 0.09680651\n",
      " 0.10427051 0.10852849 0.10254095 0.10439372 0.10587333 0.10709399\n",
      " 0.10816571 0.10915899 0.11010972 0.11103218 0.11192971 0.11280081\n",
      " 0.11364277 0.11445303 0.11522992 0.11597297]\n",
      "14 day output [[0.11668259]]\n",
      "15 day input [0.1208516  0.13212273 0.13470257 0.14311835 0.14662492 0.15524108\n",
      " 0.1587226  0.16839073 0.17001879 0.17222292 0.1806387  0.17765811\n",
      " 0.16974327 0.16899186 0.17933626 0.17087038 0.16278021 0.16355667\n",
      " 0.15842204 0.14755166 0.15233563 0.1591985  0.1463995  0.14584847\n",
      " 0.15168441 0.15125861 0.14922981 0.13763306 0.14036318 0.12513463\n",
      " 0.12455855 0.14226675 0.12726362 0.12804008 0.13184721 0.14822793\n",
      " 0.12505949 0.12633688 0.11326237 0.11939887 0.09933626 0.08946775\n",
      " 0.10086412 0.09693175 0.10619912 0.08510958 0.07641828 0.07701941\n",
      " 0.09084534 0.08395742 0.08435817 0.09252348 0.107201   0.10519724\n",
      " 0.10487163 0.11113338 0.096531   0.09843456 0.10487163 0.10299311\n",
      " 0.08966813 0.07586725 0.0627176  0.06492173 0.07160927 0.05815905\n",
      " 0.06191609 0.07271133 0.07140889 0.0787226  0.08721353 0.08721353\n",
      " 0.07664371 0.08112711 0.07484033 0.0803757  0.08696306 0.09036944\n",
      " 0.09896055 0.10068879 0.0952536  0.09773325 0.09680651 0.10427051\n",
      " 0.10852849 0.10254095 0.10439372 0.10587333 0.10709399 0.10816571\n",
      " 0.10915899 0.11010972 0.11103218 0.11192971 0.11280081 0.11364277\n",
      " 0.11445303 0.11522992 0.11597297 0.11668259]\n",
      "15 day output [[0.11736035]]\n",
      "16 day input [0.13212273 0.13470257 0.14311835 0.14662492 0.15524108 0.1587226\n",
      " 0.16839073 0.17001879 0.17222292 0.1806387  0.17765811 0.16974327\n",
      " 0.16899186 0.17933626 0.17087038 0.16278021 0.16355667 0.15842204\n",
      " 0.14755166 0.15233563 0.1591985  0.1463995  0.14584847 0.15168441\n",
      " 0.15125861 0.14922981 0.13763306 0.14036318 0.12513463 0.12455855\n",
      " 0.14226675 0.12726362 0.12804008 0.13184721 0.14822793 0.12505949\n",
      " 0.12633688 0.11326237 0.11939887 0.09933626 0.08946775 0.10086412\n",
      " 0.09693175 0.10619912 0.08510958 0.07641828 0.07701941 0.09084534\n",
      " 0.08395742 0.08435817 0.09252348 0.107201   0.10519724 0.10487163\n",
      " 0.11113338 0.096531   0.09843456 0.10487163 0.10299311 0.08966813\n",
      " 0.07586725 0.0627176  0.06492173 0.07160927 0.05815905 0.06191609\n",
      " 0.07271133 0.07140889 0.0787226  0.08721353 0.08721353 0.07664371\n",
      " 0.08112711 0.07484033 0.0803757  0.08696306 0.09036944 0.09896055\n",
      " 0.10068879 0.0952536  0.09773325 0.09680651 0.10427051 0.10852849\n",
      " 0.10254095 0.10439372 0.10587333 0.10709399 0.10816571 0.10915899\n",
      " 0.11010972 0.11103218 0.11192971 0.11280081 0.11364277 0.11445303\n",
      " 0.11522992 0.11597297 0.11668259 0.11736035]\n",
      "16 day output [[0.1180082]]\n",
      "17 day input [0.13470257 0.14311835 0.14662492 0.15524108 0.1587226  0.16839073\n",
      " 0.17001879 0.17222292 0.1806387  0.17765811 0.16974327 0.16899186\n",
      " 0.17933626 0.17087038 0.16278021 0.16355667 0.15842204 0.14755166\n",
      " 0.15233563 0.1591985  0.1463995  0.14584847 0.15168441 0.15125861\n",
      " 0.14922981 0.13763306 0.14036318 0.12513463 0.12455855 0.14226675\n",
      " 0.12726362 0.12804008 0.13184721 0.14822793 0.12505949 0.12633688\n",
      " 0.11326237 0.11939887 0.09933626 0.08946775 0.10086412 0.09693175\n",
      " 0.10619912 0.08510958 0.07641828 0.07701941 0.09084534 0.08395742\n",
      " 0.08435817 0.09252348 0.107201   0.10519724 0.10487163 0.11113338\n",
      " 0.096531   0.09843456 0.10487163 0.10299311 0.08966813 0.07586725\n",
      " 0.0627176  0.06492173 0.07160927 0.05815905 0.06191609 0.07271133\n",
      " 0.07140889 0.0787226  0.08721353 0.08721353 0.07664371 0.08112711\n",
      " 0.07484033 0.0803757  0.08696306 0.09036944 0.09896055 0.10068879\n",
      " 0.0952536  0.09773325 0.09680651 0.10427051 0.10852849 0.10254095\n",
      " 0.10439372 0.10587333 0.10709399 0.10816571 0.10915899 0.11010972\n",
      " 0.11103218 0.11192971 0.11280081 0.11364277 0.11445303 0.11522992\n",
      " 0.11597297 0.11668259 0.11736035 0.1180082 ]\n",
      "17 day output [[0.11862902]]\n",
      "18 day input [0.14311835 0.14662492 0.15524108 0.1587226  0.16839073 0.17001879\n",
      " 0.17222292 0.1806387  0.17765811 0.16974327 0.16899186 0.17933626\n",
      " 0.17087038 0.16278021 0.16355667 0.15842204 0.14755166 0.15233563\n",
      " 0.1591985  0.1463995  0.14584847 0.15168441 0.15125861 0.14922981\n",
      " 0.13763306 0.14036318 0.12513463 0.12455855 0.14226675 0.12726362\n",
      " 0.12804008 0.13184721 0.14822793 0.12505949 0.12633688 0.11326237\n",
      " 0.11939887 0.09933626 0.08946775 0.10086412 0.09693175 0.10619912\n",
      " 0.08510958 0.07641828 0.07701941 0.09084534 0.08395742 0.08435817\n",
      " 0.09252348 0.107201   0.10519724 0.10487163 0.11113338 0.096531\n",
      " 0.09843456 0.10487163 0.10299311 0.08966813 0.07586725 0.0627176\n",
      " 0.06492173 0.07160927 0.05815905 0.06191609 0.07271133 0.07140889\n",
      " 0.0787226  0.08721353 0.08721353 0.07664371 0.08112711 0.07484033\n",
      " 0.0803757  0.08696306 0.09036944 0.09896055 0.10068879 0.0952536\n",
      " 0.09773325 0.09680651 0.10427051 0.10852849 0.10254095 0.10439372\n",
      " 0.10587333 0.10709399 0.10816571 0.10915899 0.11010972 0.11103218\n",
      " 0.11192971 0.11280081 0.11364277 0.11445303 0.11522992 0.11597297\n",
      " 0.11668259 0.11736035 0.1180082  0.11862902]\n"
     ]
    },
    {
     "name": "stdout",
     "output_type": "stream",
     "text": [
      "18 day output [[0.11922553]]\n",
      "19 day input [0.14662492 0.15524108 0.1587226  0.16839073 0.17001879 0.17222292\n",
      " 0.1806387  0.17765811 0.16974327 0.16899186 0.17933626 0.17087038\n",
      " 0.16278021 0.16355667 0.15842204 0.14755166 0.15233563 0.1591985\n",
      " 0.1463995  0.14584847 0.15168441 0.15125861 0.14922981 0.13763306\n",
      " 0.14036318 0.12513463 0.12455855 0.14226675 0.12726362 0.12804008\n",
      " 0.13184721 0.14822793 0.12505949 0.12633688 0.11326237 0.11939887\n",
      " 0.09933626 0.08946775 0.10086412 0.09693175 0.10619912 0.08510958\n",
      " 0.07641828 0.07701941 0.09084534 0.08395742 0.08435817 0.09252348\n",
      " 0.107201   0.10519724 0.10487163 0.11113338 0.096531   0.09843456\n",
      " 0.10487163 0.10299311 0.08966813 0.07586725 0.0627176  0.06492173\n",
      " 0.07160927 0.05815905 0.06191609 0.07271133 0.07140889 0.0787226\n",
      " 0.08721353 0.08721353 0.07664371 0.08112711 0.07484033 0.0803757\n",
      " 0.08696306 0.09036944 0.09896055 0.10068879 0.0952536  0.09773325\n",
      " 0.09680651 0.10427051 0.10852849 0.10254095 0.10439372 0.10587333\n",
      " 0.10709399 0.10816571 0.10915899 0.11010972 0.11103218 0.11192971\n",
      " 0.11280081 0.11364277 0.11445303 0.11522992 0.11597297 0.11668259\n",
      " 0.11736035 0.1180082  0.11862902 0.11922553]\n",
      "19 day output [[0.11980071]]\n",
      "20 day input [0.15524108 0.1587226  0.16839073 0.17001879 0.17222292 0.1806387\n",
      " 0.17765811 0.16974327 0.16899186 0.17933626 0.17087038 0.16278021\n",
      " 0.16355667 0.15842204 0.14755166 0.15233563 0.1591985  0.1463995\n",
      " 0.14584847 0.15168441 0.15125861 0.14922981 0.13763306 0.14036318\n",
      " 0.12513463 0.12455855 0.14226675 0.12726362 0.12804008 0.13184721\n",
      " 0.14822793 0.12505949 0.12633688 0.11326237 0.11939887 0.09933626\n",
      " 0.08946775 0.10086412 0.09693175 0.10619912 0.08510958 0.07641828\n",
      " 0.07701941 0.09084534 0.08395742 0.08435817 0.09252348 0.107201\n",
      " 0.10519724 0.10487163 0.11113338 0.096531   0.09843456 0.10487163\n",
      " 0.10299311 0.08966813 0.07586725 0.0627176  0.06492173 0.07160927\n",
      " 0.05815905 0.06191609 0.07271133 0.07140889 0.0787226  0.08721353\n",
      " 0.08721353 0.07664371 0.08112711 0.07484033 0.0803757  0.08696306\n",
      " 0.09036944 0.09896055 0.10068879 0.0952536  0.09773325 0.09680651\n",
      " 0.10427051 0.10852849 0.10254095 0.10439372 0.10587333 0.10709399\n",
      " 0.10816571 0.10915899 0.11010972 0.11103218 0.11192971 0.11280081\n",
      " 0.11364277 0.11445303 0.11522992 0.11597297 0.11668259 0.11736035\n",
      " 0.1180082  0.11862902 0.11922553 0.11980071]\n",
      "20 day output [[0.12035738]]\n",
      "21 day input [0.1587226  0.16839073 0.17001879 0.17222292 0.1806387  0.17765811\n",
      " 0.16974327 0.16899186 0.17933626 0.17087038 0.16278021 0.16355667\n",
      " 0.15842204 0.14755166 0.15233563 0.1591985  0.1463995  0.14584847\n",
      " 0.15168441 0.15125861 0.14922981 0.13763306 0.14036318 0.12513463\n",
      " 0.12455855 0.14226675 0.12726362 0.12804008 0.13184721 0.14822793\n",
      " 0.12505949 0.12633688 0.11326237 0.11939887 0.09933626 0.08946775\n",
      " 0.10086412 0.09693175 0.10619912 0.08510958 0.07641828 0.07701941\n",
      " 0.09084534 0.08395742 0.08435817 0.09252348 0.107201   0.10519724\n",
      " 0.10487163 0.11113338 0.096531   0.09843456 0.10487163 0.10299311\n",
      " 0.08966813 0.07586725 0.0627176  0.06492173 0.07160927 0.05815905\n",
      " 0.06191609 0.07271133 0.07140889 0.0787226  0.08721353 0.08721353\n",
      " 0.07664371 0.08112711 0.07484033 0.0803757  0.08696306 0.09036944\n",
      " 0.09896055 0.10068879 0.0952536  0.09773325 0.09680651 0.10427051\n",
      " 0.10852849 0.10254095 0.10439372 0.10587333 0.10709399 0.10816571\n",
      " 0.10915899 0.11010972 0.11103218 0.11192971 0.11280081 0.11364277\n",
      " 0.11445303 0.11522992 0.11597297 0.11668259 0.11736035 0.1180082\n",
      " 0.11862902 0.11922553 0.11980071 0.12035738]\n",
      "21 day output [[0.12089801]]\n",
      "22 day input [0.16839073 0.17001879 0.17222292 0.1806387  0.17765811 0.16974327\n",
      " 0.16899186 0.17933626 0.17087038 0.16278021 0.16355667 0.15842204\n",
      " 0.14755166 0.15233563 0.1591985  0.1463995  0.14584847 0.15168441\n",
      " 0.15125861 0.14922981 0.13763306 0.14036318 0.12513463 0.12455855\n",
      " 0.14226675 0.12726362 0.12804008 0.13184721 0.14822793 0.12505949\n",
      " 0.12633688 0.11326237 0.11939887 0.09933626 0.08946775 0.10086412\n",
      " 0.09693175 0.10619912 0.08510958 0.07641828 0.07701941 0.09084534\n",
      " 0.08395742 0.08435817 0.09252348 0.107201   0.10519724 0.10487163\n",
      " 0.11113338 0.096531   0.09843456 0.10487163 0.10299311 0.08966813\n",
      " 0.07586725 0.0627176  0.06492173 0.07160927 0.05815905 0.06191609\n",
      " 0.07271133 0.07140889 0.0787226  0.08721353 0.08721353 0.07664371\n",
      " 0.08112711 0.07484033 0.0803757  0.08696306 0.09036944 0.09896055\n",
      " 0.10068879 0.0952536  0.09773325 0.09680651 0.10427051 0.10852849\n",
      " 0.10254095 0.10439372 0.10587333 0.10709399 0.10816571 0.10915899\n",
      " 0.11010972 0.11103218 0.11192971 0.11280081 0.11364277 0.11445303\n",
      " 0.11522992 0.11597297 0.11668259 0.11736035 0.1180082  0.11862902\n",
      " 0.11922553 0.11980071 0.12035738 0.12089801]\n",
      "22 day output [[0.12142462]]\n",
      "23 day input [0.17001879 0.17222292 0.1806387  0.17765811 0.16974327 0.16899186\n",
      " 0.17933626 0.17087038 0.16278021 0.16355667 0.15842204 0.14755166\n",
      " 0.15233563 0.1591985  0.1463995  0.14584847 0.15168441 0.15125861\n",
      " 0.14922981 0.13763306 0.14036318 0.12513463 0.12455855 0.14226675\n",
      " 0.12726362 0.12804008 0.13184721 0.14822793 0.12505949 0.12633688\n",
      " 0.11326237 0.11939887 0.09933626 0.08946775 0.10086412 0.09693175\n",
      " 0.10619912 0.08510958 0.07641828 0.07701941 0.09084534 0.08395742\n",
      " 0.08435817 0.09252348 0.107201   0.10519724 0.10487163 0.11113338\n",
      " 0.096531   0.09843456 0.10487163 0.10299311 0.08966813 0.07586725\n",
      " 0.0627176  0.06492173 0.07160927 0.05815905 0.06191609 0.07271133\n",
      " 0.07140889 0.0787226  0.08721353 0.08721353 0.07664371 0.08112711\n",
      " 0.07484033 0.0803757  0.08696306 0.09036944 0.09896055 0.10068879\n",
      " 0.0952536  0.09773325 0.09680651 0.10427051 0.10852849 0.10254095\n",
      " 0.10439372 0.10587333 0.10709399 0.10816571 0.10915899 0.11010972\n",
      " 0.11103218 0.11192971 0.11280081 0.11364277 0.11445303 0.11522992\n",
      " 0.11597297 0.11668259 0.11736035 0.1180082  0.11862902 0.11922553\n",
      " 0.11980071 0.12035738 0.12089801 0.12142462]\n",
      "23 day output [[0.12193885]]\n",
      "24 day input [0.17222292 0.1806387  0.17765811 0.16974327 0.16899186 0.17933626\n",
      " 0.17087038 0.16278021 0.16355667 0.15842204 0.14755166 0.15233563\n",
      " 0.1591985  0.1463995  0.14584847 0.15168441 0.15125861 0.14922981\n",
      " 0.13763306 0.14036318 0.12513463 0.12455855 0.14226675 0.12726362\n",
      " 0.12804008 0.13184721 0.14822793 0.12505949 0.12633688 0.11326237\n",
      " 0.11939887 0.09933626 0.08946775 0.10086412 0.09693175 0.10619912\n",
      " 0.08510958 0.07641828 0.07701941 0.09084534 0.08395742 0.08435817\n",
      " 0.09252348 0.107201   0.10519724 0.10487163 0.11113338 0.096531\n",
      " 0.09843456 0.10487163 0.10299311 0.08966813 0.07586725 0.0627176\n",
      " 0.06492173 0.07160927 0.05815905 0.06191609 0.07271133 0.07140889\n",
      " 0.0787226  0.08721353 0.08721353 0.07664371 0.08112711 0.07484033\n",
      " 0.0803757  0.08696306 0.09036944 0.09896055 0.10068879 0.0952536\n",
      " 0.09773325 0.09680651 0.10427051 0.10852849 0.10254095 0.10439372\n",
      " 0.10587333 0.10709399 0.10816571 0.10915899 0.11010972 0.11103218\n",
      " 0.11192971 0.11280081 0.11364277 0.11445303 0.11522992 0.11597297\n",
      " 0.11668259 0.11736035 0.1180082  0.11862902 0.11922553 0.11980071\n",
      " 0.12035738 0.12089801 0.12142462 0.12193885]\n",
      "24 day output [[0.12244186]]\n",
      "25 day input [0.1806387  0.17765811 0.16974327 0.16899186 0.17933626 0.17087038\n",
      " 0.16278021 0.16355667 0.15842204 0.14755166 0.15233563 0.1591985\n",
      " 0.1463995  0.14584847 0.15168441 0.15125861 0.14922981 0.13763306\n",
      " 0.14036318 0.12513463 0.12455855 0.14226675 0.12726362 0.12804008\n",
      " 0.13184721 0.14822793 0.12505949 0.12633688 0.11326237 0.11939887\n",
      " 0.09933626 0.08946775 0.10086412 0.09693175 0.10619912 0.08510958\n",
      " 0.07641828 0.07701941 0.09084534 0.08395742 0.08435817 0.09252348\n",
      " 0.107201   0.10519724 0.10487163 0.11113338 0.096531   0.09843456\n",
      " 0.10487163 0.10299311 0.08966813 0.07586725 0.0627176  0.06492173\n",
      " 0.07160927 0.05815905 0.06191609 0.07271133 0.07140889 0.0787226\n",
      " 0.08721353 0.08721353 0.07664371 0.08112711 0.07484033 0.0803757\n",
      " 0.08696306 0.09036944 0.09896055 0.10068879 0.0952536  0.09773325\n",
      " 0.09680651 0.10427051 0.10852849 0.10254095 0.10439372 0.10587333\n",
      " 0.10709399 0.10816571 0.10915899 0.11010972 0.11103218 0.11192971\n",
      " 0.11280081 0.11364277 0.11445303 0.11522992 0.11597297 0.11668259\n",
      " 0.11736035 0.1180082  0.11862902 0.11922553 0.11980071 0.12035738\n",
      " 0.12089801 0.12142462 0.12193885 0.12244186]\n",
      "25 day output [[0.12293439]]\n",
      "26 day input [0.17765811 0.16974327 0.16899186 0.17933626 0.17087038 0.16278021\n",
      " 0.16355667 0.15842204 0.14755166 0.15233563 0.1591985  0.1463995\n",
      " 0.14584847 0.15168441 0.15125861 0.14922981 0.13763306 0.14036318\n",
      " 0.12513463 0.12455855 0.14226675 0.12726362 0.12804008 0.13184721\n",
      " 0.14822793 0.12505949 0.12633688 0.11326237 0.11939887 0.09933626\n",
      " 0.08946775 0.10086412 0.09693175 0.10619912 0.08510958 0.07641828\n",
      " 0.07701941 0.09084534 0.08395742 0.08435817 0.09252348 0.107201\n",
      " 0.10519724 0.10487163 0.11113338 0.096531   0.09843456 0.10487163\n",
      " 0.10299311 0.08966813 0.07586725 0.0627176  0.06492173 0.07160927\n",
      " 0.05815905 0.06191609 0.07271133 0.07140889 0.0787226  0.08721353\n",
      " 0.08721353 0.07664371 0.08112711 0.07484033 0.0803757  0.08696306\n",
      " 0.09036944 0.09896055 0.10068879 0.0952536  0.09773325 0.09680651\n",
      " 0.10427051 0.10852849 0.10254095 0.10439372 0.10587333 0.10709399\n",
      " 0.10816571 0.10915899 0.11010972 0.11103218 0.11192971 0.11280081\n",
      " 0.11364277 0.11445303 0.11522992 0.11597297 0.11668259 0.11736035\n",
      " 0.1180082  0.11862902 0.11922553 0.11980071 0.12035738 0.12089801\n",
      " 0.12142462 0.12193885 0.12244186 0.12293439]\n",
      "26 day output [[0.12341679]]\n",
      "27 day input [0.16974327 0.16899186 0.17933626 0.17087038 0.16278021 0.16355667\n",
      " 0.15842204 0.14755166 0.15233563 0.1591985  0.1463995  0.14584847\n",
      " 0.15168441 0.15125861 0.14922981 0.13763306 0.14036318 0.12513463\n",
      " 0.12455855 0.14226675 0.12726362 0.12804008 0.13184721 0.14822793\n",
      " 0.12505949 0.12633688 0.11326237 0.11939887 0.09933626 0.08946775\n",
      " 0.10086412 0.09693175 0.10619912 0.08510958 0.07641828 0.07701941\n",
      " 0.09084534 0.08395742 0.08435817 0.09252348 0.107201   0.10519724\n",
      " 0.10487163 0.11113338 0.096531   0.09843456 0.10487163 0.10299311\n",
      " 0.08966813 0.07586725 0.0627176  0.06492173 0.07160927 0.05815905\n",
      " 0.06191609 0.07271133 0.07140889 0.0787226  0.08721353 0.08721353\n",
      " 0.07664371 0.08112711 0.07484033 0.0803757  0.08696306 0.09036944\n",
      " 0.09896055 0.10068879 0.0952536  0.09773325 0.09680651 0.10427051\n",
      " 0.10852849 0.10254095 0.10439372 0.10587333 0.10709399 0.10816571\n",
      " 0.10915899 0.11010972 0.11103218 0.11192971 0.11280081 0.11364277\n",
      " 0.11445303 0.11522992 0.11597297 0.11668259 0.11736035 0.1180082\n",
      " 0.11862902 0.11922553 0.11980071 0.12035738 0.12089801 0.12142462\n",
      " 0.12193885 0.12244186 0.12293439 0.12341679]\n"
     ]
    },
    {
     "name": "stdout",
     "output_type": "stream",
     "text": [
      "27 day output [[0.1238892]]\n",
      "28 day input [0.16899186 0.17933626 0.17087038 0.16278021 0.16355667 0.15842204\n",
      " 0.14755166 0.15233563 0.1591985  0.1463995  0.14584847 0.15168441\n",
      " 0.15125861 0.14922981 0.13763306 0.14036318 0.12513463 0.12455855\n",
      " 0.14226675 0.12726362 0.12804008 0.13184721 0.14822793 0.12505949\n",
      " 0.12633688 0.11326237 0.11939887 0.09933626 0.08946775 0.10086412\n",
      " 0.09693175 0.10619912 0.08510958 0.07641828 0.07701941 0.09084534\n",
      " 0.08395742 0.08435817 0.09252348 0.107201   0.10519724 0.10487163\n",
      " 0.11113338 0.096531   0.09843456 0.10487163 0.10299311 0.08966813\n",
      " 0.07586725 0.0627176  0.06492173 0.07160927 0.05815905 0.06191609\n",
      " 0.07271133 0.07140889 0.0787226  0.08721353 0.08721353 0.07664371\n",
      " 0.08112711 0.07484033 0.0803757  0.08696306 0.09036944 0.09896055\n",
      " 0.10068879 0.0952536  0.09773325 0.09680651 0.10427051 0.10852849\n",
      " 0.10254095 0.10439372 0.10587333 0.10709399 0.10816571 0.10915899\n",
      " 0.11010972 0.11103218 0.11192971 0.11280081 0.11364277 0.11445303\n",
      " 0.11522992 0.11597297 0.11668259 0.11736035 0.1180082  0.11862902\n",
      " 0.11922553 0.11980071 0.12035738 0.12089801 0.12142462 0.12193885\n",
      " 0.12244186 0.12293439 0.12341679 0.1238892 ]\n",
      "28 day output [[0.12435164]]\n",
      "29 day input [0.17933626 0.17087038 0.16278021 0.16355667 0.15842204 0.14755166\n",
      " 0.15233563 0.1591985  0.1463995  0.14584847 0.15168441 0.15125861\n",
      " 0.14922981 0.13763306 0.14036318 0.12513463 0.12455855 0.14226675\n",
      " 0.12726362 0.12804008 0.13184721 0.14822793 0.12505949 0.12633688\n",
      " 0.11326237 0.11939887 0.09933626 0.08946775 0.10086412 0.09693175\n",
      " 0.10619912 0.08510958 0.07641828 0.07701941 0.09084534 0.08395742\n",
      " 0.08435817 0.09252348 0.107201   0.10519724 0.10487163 0.11113338\n",
      " 0.096531   0.09843456 0.10487163 0.10299311 0.08966813 0.07586725\n",
      " 0.0627176  0.06492173 0.07160927 0.05815905 0.06191609 0.07271133\n",
      " 0.07140889 0.0787226  0.08721353 0.08721353 0.07664371 0.08112711\n",
      " 0.07484033 0.0803757  0.08696306 0.09036944 0.09896055 0.10068879\n",
      " 0.0952536  0.09773325 0.09680651 0.10427051 0.10852849 0.10254095\n",
      " 0.10439372 0.10587333 0.10709399 0.10816571 0.10915899 0.11010972\n",
      " 0.11103218 0.11192971 0.11280081 0.11364277 0.11445303 0.11522992\n",
      " 0.11597297 0.11668259 0.11736035 0.1180082  0.11862902 0.11922553\n",
      " 0.11980071 0.12035738 0.12089801 0.12142462 0.12193885 0.12244186\n",
      " 0.12293439 0.12341679 0.1238892  0.12435164]\n",
      "29 day output [[0.12480386]]\n",
      "[[0.10254095494747162], [0.10439372062683105], [0.10587333142757416], [0.10709398984909058], [0.10816571116447449], [0.10915899276733398], [0.11010972410440445], [0.11103218048810959], [0.11192971467971802], [0.11280081421136856], [0.11364277452230453], [0.11445302516222], [0.11522991955280304], [0.11597296595573425], [0.11668258905410767], [0.11736034601926804], [0.11800820380449295], [0.11862901598215103], [0.11922553181648254], [0.11980070918798447], [0.12035737931728363], [0.12089800834655762], [0.1214246153831482], [0.12193885445594788], [0.1224418580532074], [0.12293438613414764], [0.12341678887605667], [0.12388920038938522], [0.12435164302587509], [0.12480385601520538]]\n"
     ]
    }
   ],
   "source": [
    "#predicting data for next 30 days\n",
    "from numpy import array\n",
    "\n",
    "output=[]\n",
    "n=100\n",
    "i=0\n",
    "while(i<30):\n",
    "    \n",
    "    if(len(listinput)>100):\n",
    "        xinput=np.array(listinput[1:])\n",
    "        print(\"{} day input {}\".format(i,xinput))\n",
    "        xinput=xinput.reshape(1,-1)\n",
    "        xinput = xinput.reshape((1, n, 1))\n",
    "        yhat = model.predict(xinput, verbose=0)\n",
    "        print(\"{} day output {}\".format(i,yhat))\n",
    "        listinput.extend(yhat[0].tolist())\n",
    "        listinput=listinput[1:]\n",
    "        output.extend(yhat.tolist())\n",
    "        i=i+1\n",
    "    else:\n",
    "        xinput = xinput.reshape((1, n,1))\n",
    "        yhat = model.predict(xinput, verbose=0)\n",
    "        print(yhat[0])\n",
    "        listinput.extend(yhat[0].tolist())\n",
    "        print(len(listinput))\n",
    "        output.extend(yhat.tolist())\n",
    "        i=i+1\n",
    "    \n",
    "\n",
    "print(output)"
   ]
  },
  {
   "cell_type": "code",
   "execution_count": 41,
   "id": "485572df",
   "metadata": {},
   "outputs": [],
   "source": [
    "daynew=np.arange(1,101)\n",
    "dayprediction=np.arange(101,131)"
   ]
  },
  {
   "cell_type": "code",
   "execution_count": 42,
   "id": "5f8ef5ba",
   "metadata": {},
   "outputs": [
    {
     "data": {
      "text/plain": [
       "[<matplotlib.lines.Line2D at 0x1796808e0>]"
      ]
     },
     "execution_count": 42,
     "metadata": {},
     "output_type": "execute_result"
    },
    {
     "data": {
      "image/png": "[encoded data removed]",
      "text/plain": [
       "<Figure size 432x288 with 1 Axes>"
      ]
     },
     "metadata": {
      "needs_background": "light"
     },
     "output_type": "display_data"
    }
   ],
   "source": [
    "plt.plot(daynew,scaler.inverse_transform(dataframe1[1159:]))\n",
    "plt.plot(dayprediction,scaler.inverse_transform(output))"
   ]
  },
  {
   "cell_type": "code",
   "execution_count": 43,
   "id": "9ff20974",
   "metadata": {},
   "outputs": [
    {
     "data": {
      "text/plain": [
       "[<matplotlib.lines.Line2D at 0x1796d1880>]"
      ]
     },
     "execution_count": 43,
     "metadata": {},
     "output_type": "execute_result"
    },
    {
     "data": {
      "image/png": "[encoded data removed]",
      "text/plain": [
       "<Figure size 432x288 with 1 Axes>"
      ]
     },
     "metadata": {
      "needs_background": "light"
     },
     "output_type": "display_data"
    }
   ],
   "source": [
    "dataframe2=dataframe1.tolist()\n",
    "dataframe2.extend(output)\n",
    "plt.plot(dataframe2[1200:])"
   ]
  },
  {
   "cell_type": "code",
   "execution_count": 44,
   "id": "53221fb7",
   "metadata": {},
   "outputs": [
    {
     "data": {
      "text/plain": [
       "[<matplotlib.lines.Line2D at 0x1797b1bb0>]"
      ]
     },
     "execution_count": 44,
     "metadata": {},
     "output_type": "execute_result"
    },
    {
     "data": {
      "image/png": "[encoded data removed]",
      "text/plain": [
       "<Figure size 432x288 with 1 Axes>"
      ]
     },
     "metadata": {
      "needs_background": "light"
     },
     "output_type": "display_data"
    }
   ],
   "source": [
    "dataframe2=scaler.inverse_transform(dataframe2).tolist()\n",
    "plt.plot(dataframe2)"
   ]
  },
  {
   "cell_type": "code",
   "execution_count": 45,
   "id": "ac3c0aea",
   "metadata": {},
   "outputs": [],
   "source": [
    "output=scaler.inverse_transform(output)"
   ]
  },
  {
   "cell_type": "code",
   "execution_count": 46,
   "id": "a91993f2",
   "metadata": {},
   "outputs": [
    {
     "data": {
      "text/plain": [
       "array([[147.77947626],\n",
       "       [148.51919296],\n",
       "       [149.10992757],\n",
       "       [149.59727545],\n",
       "       [150.02516018],\n",
       "       [150.42172786],\n",
       "       [150.80130735],\n",
       "       [151.16959806],\n",
       "       [151.52793859],\n",
       "       [151.87572507],\n",
       "       [152.21187773],\n",
       "       [152.5353703 ],\n",
       "       [152.84554538],\n",
       "       [153.14220666],\n",
       "       [153.42552368],\n",
       "       [153.69611815],\n",
       "       [153.95477537],\n",
       "       [154.20263463],\n",
       "       [154.44079358],\n",
       "       [154.67043314],\n",
       "       [154.89268369],\n",
       "       [155.10852983],\n",
       "       [155.31877769],\n",
       "       [155.52408764],\n",
       "       [155.72491183],\n",
       "       [155.92155366],\n",
       "       [156.11415296],\n",
       "       [156.30276326],\n",
       "       [156.48739348],\n",
       "       [156.66793951]])"
      ]
     },
     "execution_count": 46,
     "metadata": {},
     "output_type": "execute_result"
    }
   ],
   "source": [
    "output"
   ]
  },
  {
   "cell_type": "code",
   "execution_count": 47,
   "id": "edd45b4a",
   "metadata": {},
   "outputs": [
    {
     "data": {
      "text/plain": [
       "(30, 1)"
      ]
     },
     "execution_count": 47,
     "metadata": {},
     "output_type": "execute_result"
    }
   ],
   "source": [
    "output.shape\n"
   ]
  },
  {
   "cell_type": "code",
   "execution_count": 48,
   "id": "cabc761f",
   "metadata": {},
   "outputs": [],
   "source": [
    "# successfully predicted the output of tesla stock"
   ]
  },
  {
   "cell_type": "code",
   "execution_count": null,
   "id": "fe51b3f8",
   "metadata": {},
   "outputs": [],
   "source": []
  },
  {
   "cell_type": "code",
   "execution_count": null,
   "id": "d40d7b2a",
   "metadata": {},
   "outputs": [],
   "source": []
  }
 ],
 "metadata": {
  "kernelspec": {
   "display_name": "Python 3",
   "language": "python",
   "name": "python3"
  },
  "language_info": {
   "codemirror_mode": {
    "name": "ipython",
    "version": 3
   },
   "file_extension": ".py",
   "mimetype": "text/x-python",
   "name": "python",
   "nbconvert_exporter": "python",
   "pygments_lexer": "ipython3",
   "version": "3.9.12"
  }
 },
 "nbformat": 4,
 "nbformat_minor": 5
}
